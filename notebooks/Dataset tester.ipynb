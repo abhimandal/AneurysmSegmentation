{
 "cells": [
  {
   "cell_type": "code",
   "execution_count": 1,
   "id": "likely-north",
   "metadata": {},
   "outputs": [],
   "source": [
    "from torch_points3d.datasets.base_dataset import BaseDataset\n",
    "from torch.utils.data import Dataset"
   ]
  },
  {
   "cell_type": "code",
   "execution_count": 2,
   "id": "virgin-refund",
   "metadata": {},
   "outputs": [],
   "source": [
    "import numpy as np\n",
    "import pandas as pd\n",
    "import time \n",
    "import os\n",
    "import torch\n",
    "import matplotlib.pyplot as plt\n",
    "import seaborn as sns\n",
    "import torch\n",
    "\n",
    "from torch_geometric.io import read_txt_array\n",
    "from sklearn.preprocessing import StandardScaler, MinMaxScaler, MaxAbsScaler\n",
    "\n",
    "from plyfile import PlyData, PlyElement,PlyProperty, PlyListProperty\n",
    "\n",
    "import sys\n",
    "from omegaconf import OmegaConf\n",
    "import pyvista as pv\n",
    "import ipdb"
   ]
  },
  {
   "cell_type": "code",
   "execution_count": 3,
   "id": "raising-typing",
   "metadata": {},
   "outputs": [],
   "source": [
    "%load_ext autoreload\n",
    "%autoreload 2"
   ]
  },
  {
   "cell_type": "code",
   "execution_count": 4,
   "id": "vanilla-supplier",
   "metadata": {},
   "outputs": [],
   "source": [
    "pd.set_option(\"display.max_rows\", 1000)\n",
    "pd.set_option(\"display.max_columns\", 2000)\n",
    "pd.set_option(\"display.max_colwidth\", 256)\n",
    "\n",
    "torch.set_printoptions(precision=8)"
   ]
  },
  {
   "cell_type": "code",
   "execution_count": 5,
   "id": "compressed-change",
   "metadata": {},
   "outputs": [],
   "source": [
    "%matplotlib inline\n",
    "sns.set(rc={'figure.figsize':(8,6)})\n"
   ]
  },
  {
   "cell_type": "code",
   "execution_count": null,
   "id": "sixth-finish",
   "metadata": {},
   "outputs": [],
   "source": []
  },
  {
   "cell_type": "code",
   "execution_count": 6,
   "id": "popular-lunch",
   "metadata": {},
   "outputs": [
    {
     "data": {
      "text/plain": [
       "['2_BC', '3_BC', '4_BC', '5_BM', '6_BM']"
      ]
     },
     "execution_count": 6,
     "metadata": {},
     "output_type": "execute_result"
    }
   ],
   "source": [
    "patient_id_list_new =  '2_BC\t3_BC\t4_BC\t5_BM\t6_BM\t7_BP\t8_BP\t9_KBW\t10_SUM\t11_DHM\t12_GAW\t13_PMM\t14_TR\t15_TR\t16_TR\t18_EM\t19_EM\t20_EM\t21_FA\t22_FA\t23_HJ\t24_HJ\t25_HM\t26_HM\t27_HM\t28_JM\t29_JM\t30_JM\t31_JM\t32_JM\t33_KBB\t34_KBB\t35_KBB\t36_KBB\t37_KBB\t38_KBB\t39_KBB\t40_KBB\t41_KBB\t42_KBB\t43_KBB\t44_AC\t45_AC\t46_LE\t47_LE\t48_LE\t50_LE\t51_LE\t52_LE\t54_MR\t55_MR\t56_WA\t57_SF\t58_SI\t59_SI'\n",
    "patient_id_list_new = patient_id_list_new.split()\n",
    "patient_id_list_new[:5]"
   ]
  },
  {
   "cell_type": "code",
   "execution_count": null,
   "id": "determined-valve",
   "metadata": {},
   "outputs": [],
   "source": []
  },
  {
   "cell_type": "code",
   "execution_count": 7,
   "id": "corporate-citation",
   "metadata": {},
   "outputs": [
    {
     "data": {
      "text/plain": [
       "'D:\\\\Workspace\\\\Python\\\\aneurysm-segmentation\\\\datasets'"
      ]
     },
     "execution_count": 7,
     "metadata": {},
     "output_type": "execute_result"
    }
   ],
   "source": [
    "os.getcwd()"
   ]
  },
  {
   "cell_type": "code",
   "execution_count": 8,
   "id": "equal-tribune",
   "metadata": {
    "colab": {},
    "colab_type": "code",
    "id": "Q44YjGjrvg2j"
   },
   "outputs": [],
   "source": [
    "DIR = os.getcwd() # Replace with your root directory, the data will go in DIR/data."
   ]
  },
  {
   "cell_type": "raw",
   "id": "compound-lincoln",
   "metadata": {
    "cellView": "form",
    "colab": {},
    "colab_type": "code",
    "id": "JnLlPJ_dmzOV"
   },
   "source": [
    "#@title Configure the dataset {run: \"auto\"}\n",
    "CATEGORY = \"All\" #@param [\"Airplane\", \"Bag\", \"All\", \"Motorbike\"] {allow-input: true}\n",
    "USE_NORMALS = False #@param {type:\"boolean\"}|"
   ]
  },
  {
   "cell_type": "code",
   "execution_count": 9,
   "id": "serial-mailing",
   "metadata": {
    "colab": {},
    "colab_type": "code",
    "id": "PBRS6vxSvjRo"
   },
   "outputs": [],
   "source": [
    "shapenet_yaml = \"\"\"\n",
    "class: shapenet.ShapeNetDataset\n",
    "task: segmentation\n",
    "dataroot: %s\n",
    "first_subsampling: 0.02                       # Grid size of the input data\n",
    "pre_transforms:                               # Offline transforms, done only once\n",
    "    - transform: NormalizeScale           \n",
    "    - transform: GridSampling3D\n",
    "      params:\n",
    "        size: ${first_subsampling}\n",
    "train_transforms:                             # Data augmentation pipeline\n",
    "    - transform: RandomNoise\n",
    "      params:\n",
    "        sigma: 0.01\n",
    "        clip: 0.05\n",
    "    - transform: RandomScaleAnisotropic\n",
    "      params:\n",
    "        scales: [0.9,1.1]\n",
    "    - transform: AddOnes\n",
    "    - transform: AddFeatsByKeys\n",
    "      params:\n",
    "        list_add_to_x: [True]\n",
    "        feat_names: [\"ones\"]\n",
    "        delete_feats: [True]\n",
    "test_transforms:\n",
    "    - transform: AddOnes\n",
    "    - transform: AddFeatsByKeys\n",
    "      params:\n",
    "        list_add_to_x: [True]\n",
    "        feat_names: [\"ones\"]\n",
    "        delete_feats: [True]\n",
    "\"\"\" % (os.path.join(DIR,\"data\")) \n",
    "\n",
    "from omegaconf import OmegaConf\n",
    "params = OmegaConf.create(shapenet_yaml)\n",
    "# if CATEGORY != \"All\":\n",
    "#     params.category = CATEGORY"
   ]
  },
  {
   "cell_type": "code",
   "execution_count": 9,
   "id": "computational-trinidad",
   "metadata": {},
   "outputs": [],
   "source": [
    "shapenet_yaml = \"\"\"\n",
    "class: shapenet.ShapeNetDataset\n",
    "task: segmentation\n",
    "dataroot: %s\n",
    "first_subsampling: 0.02                       # Grid size of the input data\n",
    "pre_transforms:                               # Offline transforms, done only once\n",
    "    - transform: NormalizeScale           \n",
    "    - transform: GridSampling3D\n",
    "      params:\n",
    "        size: ${first_subsampling}\n",
    "train_transforms:                             # Data augmentation pipeline\n",
    "    - transform: RandomNoise\n",
    "      params:\n",
    "        sigma: 0.01\n",
    "        clip: 0.05\n",
    "    - transform: RandomScaleAnisotropic\n",
    "      params:\n",
    "        scales: [0.9,1.1]\n",
    "\"\"\" % (os.path.join(DIR,\"data\")) \n",
    "\n",
    "from omegaconf import OmegaConf\n",
    "params = OmegaConf.create(shapenet_yaml)\n",
    "# if CATEGORY != \"All\":\n",
    "#     params.category = CATEGORY"
   ]
  },
  {
   "cell_type": "code",
   "execution_count": 10,
   "id": "liable-labor",
   "metadata": {},
   "outputs": [
    {
     "data": {
      "text/plain": [
       "['2_BC', '3_BC', '4_BC', '5_BM', '6_BM', '7_BP', '8_BP', '9_KBW', '10_SUM', '11_DHM', '12_GAW', '13_PMM', '14_TR', '15_TR', '16_TR', '18_EM', '19_EM', '20_EM', '21_FA', '22_FA', '23_HJ', '24_HJ', '25_HM', '26_HM', '27_HM', '28_JM', '29_JM', '30_JM', '31_JM', '32_JM', '33_KBB', '34_KBB', '35_KBB', '36_KBB', '37_KBB', '38_KBB', '39_KBB', '40_KBB', '41_KBB', '42_KBB', '43_KBB', '44_AC', '45_AC', '46_LE', '47_LE', '48_LE', '50_LE', '51_LE', '52_LE', '54_MR', '55_MR', '56_WA', '57_SF', '58_SI', '59_SI']"
      ]
     },
     "execution_count": 10,
     "metadata": {},
     "output_type": "execute_result"
    }
   ],
   "source": [
    "params.raw_file_identifiers = patient_id_list_new\n",
    "params.raw_file_identifiers"
   ]
  },
  {
   "cell_type": "code",
   "execution_count": null,
   "id": "foster-dividend",
   "metadata": {
    "scrolled": true
   },
   "outputs": [],
   "source": []
  },
  {
   "cell_type": "code",
   "execution_count": 16,
   "id": "governmental-apollo",
   "metadata": {},
   "outputs": [
    {
     "data": {
      "text/plain": [
       "{'train': ['2_BC', '3_BC', '4_BC', '5_BM', '6_BM', '7_BP', '9_KBW', '8_BP', '10_SUM', '11_DHM'], 'val': ['12_GAW', '13_PMM', '14_TR', '15_TR', '16_TR', '18_EM'], 'test': ['23_HJ', '24_HJ', '25_HM']}"
      ]
     },
     "execution_count": 16,
     "metadata": {},
     "output_type": "execute_result"
    }
   ],
   "source": [
    "SHUFFLED_SPLITS = {\n",
    "    \"train\": ['2_BC', '3_BC', '4_BC', '5_BM', '6_BM', '7_BP', '9_KBW', '8_BP', '10_SUM', '11_DHM'],\n",
    "    \"val\": ['12_GAW', '13_PMM', '14_TR', '15_TR', '16_TR', '18_EM'],\n",
    "    \"test\": ['23_HJ', '24_HJ', '25_HM'],\n",
    "}\n",
    "params.shuffled_splits = SHUFFLED_SPLITS\n",
    "params.shuffled_splits"
   ]
  },
  {
   "cell_type": "code",
   "execution_count": 11,
   "id": "classified-webmaster",
   "metadata": {},
   "outputs": [
    {
     "data": {
      "text/plain": [
       "{'train': ['2_BC', '3_BC', '4_BC', '5_BM', '6_BM', '7_BP'], 'val': ['12_GAW', '13_PMM', '14_TR'], 'test': ['23_HJ', '24_HJ']}"
      ]
     },
     "execution_count": 11,
     "metadata": {},
     "output_type": "execute_result"
    }
   ],
   "source": [
    "SHUFFLED_SPLITS = {\n",
    "    \"train\": ['2_BC', '3_BC', '4_BC', '5_BM', '6_BM', '7_BP' ],\n",
    "    \"val\": ['12_GAW', '13_PMM', '14_TR' ],\n",
    "    \"test\": ['23_HJ', '24_HJ'],\n",
    "}\n",
    "params.shuffled_splits = SHUFFLED_SPLITS\n",
    "params.shuffled_splits"
   ]
  },
  {
   "cell_type": "code",
   "execution_count": 50,
   "id": "formal-bennett",
   "metadata": {},
   "outputs": [],
   "source": [
    "params.features_to_include = {\"mean_curvature\":1, \"gauss_curvature\":1, \"fpfh\":0,\n",
    "                \"shot\":1, \"rf\":0, \"ones\":0}"
   ]
  },
  {
   "cell_type": "code",
   "execution_count": 51,
   "id": "continuous-palestine",
   "metadata": {},
   "outputs": [],
   "source": [
    "category_to_seg = {'aneur': [0,1,2,3,4]\n",
    "             }"
   ]
  },
  {
   "cell_type": "code",
   "execution_count": 52,
   "id": "soviet-thousand",
   "metadata": {
    "scrolled": true
   },
   "outputs": [
    {
     "name": "stdout",
     "output_type": "stream",
     "text": [
      "Processing...\n"
     ]
    },
    {
     "data": {
      "application/vnd.jupyter.widget-view+json": {
       "model_id": "91f1c921d2f7434a8284ad941989887f",
       "version_major": 2,
       "version_minor": 0
      },
      "text/plain": [
       "  0%|          | 0/10 [00:00<?, ?it/s]"
      ]
     },
     "metadata": {},
     "output_type": "display_data"
    },
    {
     "data": {
      "application/vnd.jupyter.widget-view+json": {
       "model_id": "b3885381cfcf47e9be1ab13c7e85f33b",
       "version_major": 2,
       "version_minor": 0
      },
      "text/plain": [
       "  0%|          | 0/6 [00:00<?, ?it/s]"
      ]
     },
     "metadata": {},
     "output_type": "display_data"
    },
    {
     "data": {
      "application/vnd.jupyter.widget-view+json": {
       "model_id": "ede946f7840c45a19996b036f249adf8",
       "version_major": 2,
       "version_minor": 0
      },
      "text/plain": [
       "  0%|          | 0/3 [00:00<?, ?it/s]"
      ]
     },
     "metadata": {},
     "output_type": "display_data"
    },
    {
     "name": "stdout",
     "output_type": "stream",
     "text": [
      "Done!\n"
     ]
    },
    {
     "data": {
      "text/plain": [
       "Dataset: AneurysmDataset \n",
       "\u001b[0;95mtrain_pre_batch_collate_transform \u001b[0m= None\n",
       "\u001b[0;95mval_pre_batch_collate_transform \u001b[0m= None\n",
       "\u001b[0;95mtest_pre_batch_collate_transform \u001b[0m= None\n",
       "\u001b[0;95mpre_transform \u001b[0m= Compose([\n",
       "    NormalizeScale(),\n",
       "    GridSampling3D(grid_size=0.02, quantize_coords=False, mode=mean),\n",
       "])\n",
       "\u001b[0;95mtest_transform \u001b[0m= None\n",
       "\u001b[0;95mtrain_transform \u001b[0m= Compose([\n",
       "    RandomNoise(sigma=0.01, clip=0.05),\n",
       "    RandomScaleAnisotropic([0.9, 1.1]),\n",
       "])\n",
       "\u001b[0;95mval_transform \u001b[0m= None\n",
       "\u001b[0;95minference_transform \u001b[0m= Compose([\n",
       "    NormalizeScale(),\n",
       "    GridSampling3D(grid_size=0.02, quantize_coords=False, mode=mean),\n",
       "])\n",
       "Size of \u001b[0;95mtrain_dataset \u001b[0m= 10\n",
       "Size of \u001b[0;95mtest_dataset \u001b[0m= 3\n",
       "Size of \u001b[0;95mval_dataset \u001b[0m= 6\n",
       "\u001b[0;95mBatch size =\u001b[0m None"
      ]
     },
     "execution_count": 52,
     "metadata": {},
     "output_type": "execute_result"
    }
   ],
   "source": [
    "import AneurysmDataset\n",
    "dataset = AneurysmDataset.AneurysmDataset(params,category_to_seg)\n",
    "dataset"
   ]
  },
  {
   "cell_type": "code",
   "execution_count": null,
   "id": "greater-contents",
   "metadata": {},
   "outputs": [],
   "source": []
  },
  {
   "cell_type": "code",
   "execution_count": 19,
   "id": "sustained-freeze",
   "metadata": {},
   "outputs": [
    {
     "data": {
      "text/plain": [
       "([Aneurysm(3)], Aneurysm(10))"
      ]
     },
     "execution_count": 19,
     "metadata": {},
     "output_type": "execute_result"
    }
   ],
   "source": [
    "dataset.test_dataset, dataset.train_dataset"
   ]
  },
  {
   "cell_type": "code",
   "execution_count": 20,
   "id": "seven-blowing",
   "metadata": {},
   "outputs": [
    {
     "data": {
      "text/plain": [
       "Data(category=[7623], grid_size=[1], id_scan=[1], origin_id=[7623], pos=[7623, 3], x=[7623, 10], y=[7623])"
      ]
     },
     "execution_count": 20,
     "metadata": {},
     "output_type": "execute_result"
    }
   ],
   "source": [
    "dataset.train_dataset[0]"
   ]
  },
  {
   "cell_type": "code",
   "execution_count": 21,
   "id": "electronic-prime",
   "metadata": {
    "scrolled": true
   },
   "outputs": [
    {
     "data": {
      "text/plain": [
       "Data(category=[10063], grid_size=[1], id_scan=[1], origin_id=[10063], pos=[10063, 3], x=[10063, 10], y=[10063])"
      ]
     },
     "execution_count": 21,
     "metadata": {},
     "output_type": "execute_result"
    }
   ],
   "source": [
    "dataset.test_dataset[0][0]"
   ]
  },
  {
   "cell_type": "code",
   "execution_count": 53,
   "id": "remarkable-converter",
   "metadata": {},
   "outputs": [
    {
     "data": {
      "text/plain": [
       "Data(category=[7623], grid_size=[1], id_scan=[1], origin_id=[7623], pos=[7623, 3], x=[7623, 5], y=[7623])"
      ]
     },
     "execution_count": 53,
     "metadata": {},
     "output_type": "execute_result"
    }
   ],
   "source": [
    "dataset.train_dataset[0]"
   ]
  },
  {
   "cell_type": "code",
   "execution_count": 54,
   "id": "loose-feeding",
   "metadata": {
    "scrolled": true
   },
   "outputs": [
    {
     "data": {
      "text/plain": [
       "Data(category=[10063], grid_size=[1], id_scan=[1], origin_id=[10063], pos=[10063, 3], x=[10063, 5], y=[10063])"
      ]
     },
     "execution_count": 54,
     "metadata": {},
     "output_type": "execute_result"
    }
   ],
   "source": [
    "dataset.test_dataset[0][0]"
   ]
  },
  {
   "cell_type": "code",
   "execution_count": 56,
   "id": "assumed-factory",
   "metadata": {
    "scrolled": true
   },
   "outputs": [
    {
     "data": {
      "text/html": [
       "<div>\n",
       "<style scoped>\n",
       "    .dataframe tbody tr th:only-of-type {\n",
       "        vertical-align: middle;\n",
       "    }\n",
       "\n",
       "    .dataframe tbody tr th {\n",
       "        vertical-align: top;\n",
       "    }\n",
       "\n",
       "    .dataframe thead th {\n",
       "        text-align: right;\n",
       "    }\n",
       "</style>\n",
       "<table border=\"1\" class=\"dataframe\">\n",
       "  <thead>\n",
       "    <tr style=\"text-align: right;\">\n",
       "      <th></th>\n",
       "      <th>mean_curv</th>\n",
       "      <th>gauss_curv</th>\n",
       "      <th>shot_1</th>\n",
       "      <th>shot_2</th>\n",
       "      <th>shot_3</th>\n",
       "    </tr>\n",
       "  </thead>\n",
       "  <tbody>\n",
       "    <tr>\n",
       "      <th>0</th>\n",
       "      <td>0.615034</td>\n",
       "      <td>0.014545</td>\n",
       "      <td>0.610579</td>\n",
       "      <td>0.349233</td>\n",
       "      <td>0.327272</td>\n",
       "    </tr>\n",
       "    <tr>\n",
       "      <th>1</th>\n",
       "      <td>0.567320</td>\n",
       "      <td>0.013973</td>\n",
       "      <td>0.581621</td>\n",
       "      <td>0.300985</td>\n",
       "      <td>0.441860</td>\n",
       "    </tr>\n",
       "    <tr>\n",
       "      <th>2</th>\n",
       "      <td>0.503703</td>\n",
       "      <td>0.013347</td>\n",
       "      <td>0.428702</td>\n",
       "      <td>0.094581</td>\n",
       "      <td>0.451043</td>\n",
       "    </tr>\n",
       "    <tr>\n",
       "      <th>3</th>\n",
       "      <td>0.621357</td>\n",
       "      <td>0.014567</td>\n",
       "      <td>0.530922</td>\n",
       "      <td>0.122289</td>\n",
       "      <td>0.685312</td>\n",
       "    </tr>\n",
       "    <tr>\n",
       "      <th>4</th>\n",
       "      <td>0.523997</td>\n",
       "      <td>0.013481</td>\n",
       "      <td>0.650945</td>\n",
       "      <td>0.298726</td>\n",
       "      <td>0.612216</td>\n",
       "    </tr>\n",
       "    <tr>\n",
       "      <th>5</th>\n",
       "      <td>0.488143</td>\n",
       "      <td>0.013208</td>\n",
       "      <td>0.599919</td>\n",
       "      <td>0.314342</td>\n",
       "      <td>0.472449</td>\n",
       "    </tr>\n",
       "    <tr>\n",
       "      <th>6</th>\n",
       "      <td>0.538394</td>\n",
       "      <td>0.013663</td>\n",
       "      <td>0.574180</td>\n",
       "      <td>0.226916</td>\n",
       "      <td>0.577248</td>\n",
       "    </tr>\n",
       "    <tr>\n",
       "      <th>7</th>\n",
       "      <td>0.500491</td>\n",
       "      <td>0.013294</td>\n",
       "      <td>0.469087</td>\n",
       "      <td>0.380140</td>\n",
       "      <td>0.457523</td>\n",
       "    </tr>\n",
       "    <tr>\n",
       "      <th>8</th>\n",
       "      <td>0.485863</td>\n",
       "      <td>0.013217</td>\n",
       "      <td>0.681799</td>\n",
       "      <td>0.411633</td>\n",
       "      <td>0.454261</td>\n",
       "    </tr>\n",
       "    <tr>\n",
       "      <th>9</th>\n",
       "      <td>0.485418</td>\n",
       "      <td>0.013105</td>\n",
       "      <td>0.536143</td>\n",
       "      <td>0.303573</td>\n",
       "      <td>0.377540</td>\n",
       "    </tr>\n",
       "  </tbody>\n",
       "</table>\n",
       "</div>"
      ],
      "text/plain": [
       "   mean_curv  gauss_curv    shot_1    shot_2    shot_3\n",
       "0   0.615034    0.014545  0.610579  0.349233  0.327272\n",
       "1   0.567320    0.013973  0.581621  0.300985  0.441860\n",
       "2   0.503703    0.013347  0.428702  0.094581  0.451043\n",
       "3   0.621357    0.014567  0.530922  0.122289  0.685312\n",
       "4   0.523997    0.013481  0.650945  0.298726  0.612216\n",
       "5   0.488143    0.013208  0.599919  0.314342  0.472449\n",
       "6   0.538394    0.013663  0.574180  0.226916  0.577248\n",
       "7   0.500491    0.013294  0.469087  0.380140  0.457523\n",
       "8   0.485863    0.013217  0.681799  0.411633  0.454261\n",
       "9   0.485418    0.013105  0.536143  0.303573  0.377540"
      ]
     },
     "execution_count": 56,
     "metadata": {},
     "output_type": "execute_result"
    }
   ],
   "source": [
    "cols = [ 'mean_curv', 'gauss_curv','shot_1',\n",
    "       'shot_2', 'shot_3' ]\n",
    "train_df = pd.DataFrame(dataset.train_dataset[0].x.numpy(), columns = cols)\n",
    "train_df.head(10)"
   ]
  },
  {
   "cell_type": "code",
   "execution_count": 36,
   "id": "alike-stage",
   "metadata": {
    "scrolled": false
   },
   "outputs": [
    {
     "data": {
      "text/html": [
       "<div>\n",
       "<style scoped>\n",
       "    .dataframe tbody tr th:only-of-type {\n",
       "        vertical-align: middle;\n",
       "    }\n",
       "\n",
       "    .dataframe tbody tr th {\n",
       "        vertical-align: top;\n",
       "    }\n",
       "\n",
       "    .dataframe thead th {\n",
       "        text-align: right;\n",
       "    }\n",
       "</style>\n",
       "<table border=\"1\" class=\"dataframe\">\n",
       "  <thead>\n",
       "    <tr style=\"text-align: right;\">\n",
       "      <th></th>\n",
       "      <th>mean_curv</th>\n",
       "      <th>gauss_curv</th>\n",
       "      <th>fpfh_1</th>\n",
       "      <th>fpfh_2</th>\n",
       "      <th>shot_1</th>\n",
       "      <th>shot_2</th>\n",
       "      <th>shot_3</th>\n",
       "      <th>rf_1</th>\n",
       "      <th>rf_2</th>\n",
       "      <th>rf_3</th>\n",
       "      <th>FeatOnes</th>\n",
       "    </tr>\n",
       "  </thead>\n",
       "  <tbody>\n",
       "    <tr>\n",
       "      <th>0</th>\n",
       "      <td>0.465563</td>\n",
       "      <td>0.585317</td>\n",
       "      <td>0.895554</td>\n",
       "      <td>0.337046</td>\n",
       "      <td>0.594026</td>\n",
       "      <td>0.386828</td>\n",
       "      <td>0.339832</td>\n",
       "      <td>0.346073</td>\n",
       "      <td>0.529007</td>\n",
       "      <td>0.534867</td>\n",
       "      <td>1.0</td>\n",
       "    </tr>\n",
       "    <tr>\n",
       "      <th>1</th>\n",
       "      <td>0.445175</td>\n",
       "      <td>0.515517</td>\n",
       "      <td>0.906230</td>\n",
       "      <td>0.336734</td>\n",
       "      <td>0.388571</td>\n",
       "      <td>0.196154</td>\n",
       "      <td>0.481989</td>\n",
       "      <td>0.492950</td>\n",
       "      <td>0.458008</td>\n",
       "      <td>0.740375</td>\n",
       "      <td>1.0</td>\n",
       "    </tr>\n",
       "    <tr>\n",
       "      <th>2</th>\n",
       "      <td>0.443688</td>\n",
       "      <td>0.515477</td>\n",
       "      <td>0.886289</td>\n",
       "      <td>0.309789</td>\n",
       "      <td>0.564566</td>\n",
       "      <td>0.196231</td>\n",
       "      <td>0.370816</td>\n",
       "      <td>0.306328</td>\n",
       "      <td>0.453856</td>\n",
       "      <td>0.471640</td>\n",
       "      <td>1.0</td>\n",
       "    </tr>\n",
       "    <tr>\n",
       "      <th>3</th>\n",
       "      <td>0.545775</td>\n",
       "      <td>0.555194</td>\n",
       "      <td>0.890761</td>\n",
       "      <td>0.296380</td>\n",
       "      <td>0.483669</td>\n",
       "      <td>0.112101</td>\n",
       "      <td>0.430083</td>\n",
       "      <td>0.298320</td>\n",
       "      <td>0.737341</td>\n",
       "      <td>0.359861</td>\n",
       "      <td>1.0</td>\n",
       "    </tr>\n",
       "    <tr>\n",
       "      <th>4</th>\n",
       "      <td>0.622898</td>\n",
       "      <td>0.402560</td>\n",
       "      <td>0.887061</td>\n",
       "      <td>0.227823</td>\n",
       "      <td>0.551539</td>\n",
       "      <td>0.191549</td>\n",
       "      <td>0.538260</td>\n",
       "      <td>0.262447</td>\n",
       "      <td>0.719982</td>\n",
       "      <td>0.338988</td>\n",
       "      <td>1.0</td>\n",
       "    </tr>\n",
       "    <tr>\n",
       "      <th>5</th>\n",
       "      <td>0.527894</td>\n",
       "      <td>0.443902</td>\n",
       "      <td>0.876450</td>\n",
       "      <td>0.223568</td>\n",
       "      <td>0.525692</td>\n",
       "      <td>0.093349</td>\n",
       "      <td>0.421178</td>\n",
       "      <td>0.341682</td>\n",
       "      <td>0.775683</td>\n",
       "      <td>0.445450</td>\n",
       "      <td>1.0</td>\n",
       "    </tr>\n",
       "    <tr>\n",
       "      <th>6</th>\n",
       "      <td>0.440059</td>\n",
       "      <td>0.518429</td>\n",
       "      <td>0.891091</td>\n",
       "      <td>0.263439</td>\n",
       "      <td>0.370870</td>\n",
       "      <td>0.130397</td>\n",
       "      <td>0.435926</td>\n",
       "      <td>0.550765</td>\n",
       "      <td>0.621166</td>\n",
       "      <td>0.599254</td>\n",
       "      <td>1.0</td>\n",
       "    </tr>\n",
       "    <tr>\n",
       "      <th>7</th>\n",
       "      <td>0.486753</td>\n",
       "      <td>0.513911</td>\n",
       "      <td>0.876582</td>\n",
       "      <td>0.203129</td>\n",
       "      <td>0.544614</td>\n",
       "      <td>0.180271</td>\n",
       "      <td>0.566144</td>\n",
       "      <td>0.348705</td>\n",
       "      <td>0.389699</td>\n",
       "      <td>0.535009</td>\n",
       "      <td>1.0</td>\n",
       "    </tr>\n",
       "    <tr>\n",
       "      <th>8</th>\n",
       "      <td>0.504489</td>\n",
       "      <td>0.511455</td>\n",
       "      <td>0.877772</td>\n",
       "      <td>0.152803</td>\n",
       "      <td>0.191459</td>\n",
       "      <td>0.627357</td>\n",
       "      <td>0.433733</td>\n",
       "      <td>0.260143</td>\n",
       "      <td>0.462258</td>\n",
       "      <td>0.330620</td>\n",
       "      <td>1.0</td>\n",
       "    </tr>\n",
       "    <tr>\n",
       "      <th>9</th>\n",
       "      <td>0.598137</td>\n",
       "      <td>0.629115</td>\n",
       "      <td>0.897735</td>\n",
       "      <td>0.196772</td>\n",
       "      <td>0.490541</td>\n",
       "      <td>0.192665</td>\n",
       "      <td>0.412599</td>\n",
       "      <td>0.661462</td>\n",
       "      <td>0.071410</td>\n",
       "      <td>0.498488</td>\n",
       "      <td>1.0</td>\n",
       "    </tr>\n",
       "  </tbody>\n",
       "</table>\n",
       "</div>"
      ],
      "text/plain": [
       "   mean_curv  gauss_curv    fpfh_1    fpfh_2    shot_1    shot_2    shot_3  \\\n",
       "0   0.465563    0.585317  0.895554  0.337046  0.594026  0.386828  0.339832   \n",
       "1   0.445175    0.515517  0.906230  0.336734  0.388571  0.196154  0.481989   \n",
       "2   0.443688    0.515477  0.886289  0.309789  0.564566  0.196231  0.370816   \n",
       "3   0.545775    0.555194  0.890761  0.296380  0.483669  0.112101  0.430083   \n",
       "4   0.622898    0.402560  0.887061  0.227823  0.551539  0.191549  0.538260   \n",
       "5   0.527894    0.443902  0.876450  0.223568  0.525692  0.093349  0.421178   \n",
       "6   0.440059    0.518429  0.891091  0.263439  0.370870  0.130397  0.435926   \n",
       "7   0.486753    0.513911  0.876582  0.203129  0.544614  0.180271  0.566144   \n",
       "8   0.504489    0.511455  0.877772  0.152803  0.191459  0.627357  0.433733   \n",
       "9   0.598137    0.629115  0.897735  0.196772  0.490541  0.192665  0.412599   \n",
       "\n",
       "       rf_1      rf_2      rf_3  FeatOnes  \n",
       "0  0.346073  0.529007  0.534867       1.0  \n",
       "1  0.492950  0.458008  0.740375       1.0  \n",
       "2  0.306328  0.453856  0.471640       1.0  \n",
       "3  0.298320  0.737341  0.359861       1.0  \n",
       "4  0.262447  0.719982  0.338988       1.0  \n",
       "5  0.341682  0.775683  0.445450       1.0  \n",
       "6  0.550765  0.621166  0.599254       1.0  \n",
       "7  0.348705  0.389699  0.535009       1.0  \n",
       "8  0.260143  0.462258  0.330620       1.0  \n",
       "9  0.661462  0.071410  0.498488       1.0  "
      ]
     },
     "execution_count": 36,
     "metadata": {},
     "output_type": "execute_result"
    }
   ],
   "source": [
    "cols = [ 'mean_curv', 'gauss_curv', 'fpfh_1', 'fpfh_2', 'shot_1',\n",
    "       'shot_2', 'shot_3', 'rf_1', 'rf_2', 'rf_3', 'FeatOnes']\n",
    "train_df = pd.DataFrame(dataset.train_dataset[0].x.numpy(), columns = cols)\n",
    "train_df.head(10)"
   ]
  },
  {
   "cell_type": "code",
   "execution_count": 28,
   "id": "brutal-patch",
   "metadata": {},
   "outputs": [
    {
     "data": {
      "text/plain": [
       "1    0.444269\n",
       "0    0.304759\n",
       "2    0.216409\n",
       "3    0.030570\n",
       "4    0.003992\n",
       "dtype: float64"
      ]
     },
     "execution_count": 28,
     "metadata": {},
     "output_type": "execute_result"
    }
   ],
   "source": [
    "#with pre-transform\n",
    "pd.Series(dataset.train_dataset[0].y.numpy()).value_counts(normalize=True)"
   ]
  },
  {
   "cell_type": "code",
   "execution_count": 37,
   "id": "chief-flour",
   "metadata": {
    "scrolled": false
   },
   "outputs": [
    {
     "data": {
      "text/plain": [
       "1    0.443979\n",
       "0    0.291991\n",
       "2    0.220287\n",
       "3    0.037653\n",
       "4    0.006090\n",
       "dtype: float64"
      ]
     },
     "execution_count": 37,
     "metadata": {},
     "output_type": "execute_result"
    }
   ],
   "source": [
    "#without pre-transform\n",
    "pd.Series(dataset.train_dataset[0].y.numpy()).value_counts(normalize=True)"
   ]
  },
  {
   "cell_type": "code",
   "execution_count": 29,
   "id": "weighted-purple",
   "metadata": {},
   "outputs": [
    {
     "data": {
      "text/plain": [
       "1    4229\n",
       "0    2901\n",
       "2    2060\n",
       "3     291\n",
       "4      38\n",
       "dtype: int64"
      ]
     },
     "execution_count": 29,
     "metadata": {},
     "output_type": "execute_result"
    }
   ],
   "source": [
    "#with pre-transform\n",
    "pd.Series(dataset.train_dataset[0].y.numpy()).value_counts()"
   ]
  },
  {
   "cell_type": "code",
   "execution_count": 38,
   "id": "greenhouse-brick",
   "metadata": {
    "scrolled": true
   },
   "outputs": [
    {
     "data": {
      "text/plain": [
       "1    6780\n",
       "0    4459\n",
       "2    3364\n",
       "3     575\n",
       "4      93\n",
       "dtype: int64"
      ]
     },
     "execution_count": 38,
     "metadata": {},
     "output_type": "execute_result"
    }
   ],
   "source": [
    "#without pre-transform\n",
    "pd.Series(dataset.train_dataset[0].y.numpy()).value_counts()"
   ]
  },
  {
   "cell_type": "code",
   "execution_count": null,
   "id": "first-floor",
   "metadata": {},
   "outputs": [],
   "source": []
  },
  {
   "cell_type": "code",
   "execution_count": 40,
   "id": "split-williams",
   "metadata": {},
   "outputs": [
    {
     "data": {
      "text/plain": [
       "0    0.623431\n",
       "1    0.277720\n",
       "2    0.069608\n",
       "3    0.020701\n",
       "4    0.008539\n",
       "dtype: float64"
      ]
     },
     "execution_count": 40,
     "metadata": {},
     "output_type": "execute_result"
    }
   ],
   "source": [
    "#without pre-transform\n",
    "pd.Series(dataset.test_dataset[0][0].y.numpy()).value_counts(normalize=True)"
   ]
  },
  {
   "cell_type": "code",
   "execution_count": 44,
   "id": "separate-termination",
   "metadata": {
    "scrolled": true
   },
   "outputs": [
    {
     "data": {
      "text/plain": [
       "0    0.625101\n",
       "1    0.276187\n",
       "2    0.072566\n",
       "3    0.019147\n",
       "4    0.006999\n",
       "dtype: float64"
      ]
     },
     "execution_count": 44,
     "metadata": {},
     "output_type": "execute_result"
    }
   ],
   "source": [
    "#with pre-transform\n",
    "pd.Series(dataset.test_dataset[0][0].y.numpy()).value_counts(normalize=True)"
   ]
  },
  {
   "cell_type": "code",
   "execution_count": 39,
   "id": "conceptual-highlight",
   "metadata": {
    "scrolled": false
   },
   "outputs": [
    {
     "data": {
      "text/plain": [
       "0    9637\n",
       "1    4293\n",
       "2    1076\n",
       "3     320\n",
       "4     132\n",
       "dtype: int64"
      ]
     },
     "execution_count": 39,
     "metadata": {},
     "output_type": "execute_result"
    }
   ],
   "source": [
    "#without pre-transform\n",
    "pd.Series(dataset.test_dataset[0][0].y.numpy()).value_counts()"
   ]
  },
  {
   "cell_type": "code",
   "execution_count": 45,
   "id": "crucial-fiction",
   "metadata": {},
   "outputs": [
    {
     "data": {
      "text/plain": [
       "0    7770\n",
       "1    3433\n",
       "2     902\n",
       "3     238\n",
       "4      87\n",
       "dtype: int64"
      ]
     },
     "execution_count": 45,
     "metadata": {},
     "output_type": "execute_result"
    }
   ],
   "source": [
    "#with pre-transform\n",
    "pd.Series(dataset.test_dataset[0][0].y.numpy()).value_counts()"
   ]
  },
  {
   "cell_type": "code",
   "execution_count": null,
   "id": "timely-munich",
   "metadata": {},
   "outputs": [],
   "source": []
  },
  {
   "cell_type": "code",
   "execution_count": null,
   "id": "recovered-bangladesh",
   "metadata": {},
   "outputs": [],
   "source": []
  },
  {
   "cell_type": "code",
   "execution_count": null,
   "id": "utility-donna",
   "metadata": {},
   "outputs": [],
   "source": []
  },
  {
   "cell_type": "code",
   "execution_count": null,
   "id": "czech-martin",
   "metadata": {},
   "outputs": [],
   "source": []
  },
  {
   "cell_type": "code",
   "execution_count": null,
   "id": "accomplished-point",
   "metadata": {},
   "outputs": [],
   "source": []
  },
  {
   "cell_type": "code",
   "execution_count": 46,
   "id": "celtic-missile",
   "metadata": {},
   "outputs": [
    {
     "data": {
      "text/plain": [
       "Data(grid_size=[1], id_scan=[1], origin_id=[12430], pos=[12430, 3], x=[12430, 11], y=[12430])"
      ]
     },
     "execution_count": 46,
     "metadata": {},
     "output_type": "execute_result"
    }
   ],
   "source": [
    "dataset.test_dataset[0][0]"
   ]
  },
  {
   "cell_type": "code",
   "execution_count": 20,
   "id": "functioning-inclusion",
   "metadata": {
    "scrolled": true
   },
   "outputs": [
    {
     "data": {
      "text/html": [
       "<div>\n",
       "<style scoped>\n",
       "    .dataframe tbody tr th:only-of-type {\n",
       "        vertical-align: middle;\n",
       "    }\n",
       "\n",
       "    .dataframe tbody tr th {\n",
       "        vertical-align: top;\n",
       "    }\n",
       "\n",
       "    .dataframe thead th {\n",
       "        text-align: right;\n",
       "    }\n",
       "</style>\n",
       "<table border=\"1\" class=\"dataframe\">\n",
       "  <thead>\n",
       "    <tr style=\"text-align: right;\">\n",
       "      <th></th>\n",
       "      <th>mean_curv</th>\n",
       "      <th>gauss_curv</th>\n",
       "      <th>fpfh_1</th>\n",
       "      <th>fpfh_2</th>\n",
       "      <th>shot_1</th>\n",
       "      <th>shot_2</th>\n",
       "      <th>shot_3</th>\n",
       "      <th>rf_1</th>\n",
       "      <th>rf_2</th>\n",
       "      <th>rf_3</th>\n",
       "      <th>WSS</th>\n",
       "    </tr>\n",
       "  </thead>\n",
       "  <tbody>\n",
       "    <tr>\n",
       "      <th>0</th>\n",
       "      <td>0.574222</td>\n",
       "      <td>0.023021</td>\n",
       "      <td>0.189355</td>\n",
       "      <td>0.179383</td>\n",
       "      <td>0.149294</td>\n",
       "      <td>0.493119</td>\n",
       "      <td>0.384175</td>\n",
       "      <td>0.395875</td>\n",
       "      <td>0.111081</td>\n",
       "      <td>0.669914</td>\n",
       "      <td>1.0</td>\n",
       "    </tr>\n",
       "    <tr>\n",
       "      <th>1</th>\n",
       "      <td>0.594986</td>\n",
       "      <td>0.024017</td>\n",
       "      <td>0.155496</td>\n",
       "      <td>0.099852</td>\n",
       "      <td>0.291369</td>\n",
       "      <td>0.286426</td>\n",
       "      <td>0.550478</td>\n",
       "      <td>0.548554</td>\n",
       "      <td>0.457991</td>\n",
       "      <td>0.588103</td>\n",
       "      <td>1.0</td>\n",
       "    </tr>\n",
       "    <tr>\n",
       "      <th>2</th>\n",
       "      <td>0.540796</td>\n",
       "      <td>0.022298</td>\n",
       "      <td>0.263481</td>\n",
       "      <td>0.256346</td>\n",
       "      <td>0.343632</td>\n",
       "      <td>0.216385</td>\n",
       "      <td>0.458917</td>\n",
       "      <td>0.597847</td>\n",
       "      <td>0.287536</td>\n",
       "      <td>0.688268</td>\n",
       "      <td>1.0</td>\n",
       "    </tr>\n",
       "    <tr>\n",
       "      <th>3</th>\n",
       "      <td>0.566919</td>\n",
       "      <td>0.023278</td>\n",
       "      <td>0.188420</td>\n",
       "      <td>0.201164</td>\n",
       "      <td>0.293386</td>\n",
       "      <td>0.287701</td>\n",
       "      <td>0.427172</td>\n",
       "      <td>0.586290</td>\n",
       "      <td>0.388078</td>\n",
       "      <td>0.560212</td>\n",
       "      <td>1.0</td>\n",
       "    </tr>\n",
       "    <tr>\n",
       "      <th>4</th>\n",
       "      <td>0.567656</td>\n",
       "      <td>0.023081</td>\n",
       "      <td>0.170254</td>\n",
       "      <td>0.118173</td>\n",
       "      <td>0.304611</td>\n",
       "      <td>0.290573</td>\n",
       "      <td>0.443130</td>\n",
       "      <td>0.494077</td>\n",
       "      <td>0.327877</td>\n",
       "      <td>0.477753</td>\n",
       "      <td>1.0</td>\n",
       "    </tr>\n",
       "    <tr>\n",
       "      <th>5</th>\n",
       "      <td>0.584575</td>\n",
       "      <td>0.023584</td>\n",
       "      <td>0.141270</td>\n",
       "      <td>0.157737</td>\n",
       "      <td>0.245510</td>\n",
       "      <td>0.339080</td>\n",
       "      <td>0.422308</td>\n",
       "      <td>0.374689</td>\n",
       "      <td>0.263666</td>\n",
       "      <td>0.300532</td>\n",
       "      <td>1.0</td>\n",
       "    </tr>\n",
       "    <tr>\n",
       "      <th>6</th>\n",
       "      <td>0.525221</td>\n",
       "      <td>0.021717</td>\n",
       "      <td>0.375867</td>\n",
       "      <td>0.293390</td>\n",
       "      <td>0.383967</td>\n",
       "      <td>0.147898</td>\n",
       "      <td>0.652409</td>\n",
       "      <td>0.516362</td>\n",
       "      <td>0.079696</td>\n",
       "      <td>0.782724</td>\n",
       "      <td>1.0</td>\n",
       "    </tr>\n",
       "    <tr>\n",
       "      <th>7</th>\n",
       "      <td>0.540077</td>\n",
       "      <td>0.022401</td>\n",
       "      <td>0.283213</td>\n",
       "      <td>0.332647</td>\n",
       "      <td>0.253213</td>\n",
       "      <td>0.370398</td>\n",
       "      <td>0.352965</td>\n",
       "      <td>0.662774</td>\n",
       "      <td>0.366041</td>\n",
       "      <td>0.558571</td>\n",
       "      <td>1.0</td>\n",
       "    </tr>\n",
       "    <tr>\n",
       "      <th>8</th>\n",
       "      <td>0.572098</td>\n",
       "      <td>0.022859</td>\n",
       "      <td>0.189898</td>\n",
       "      <td>0.305650</td>\n",
       "      <td>0.233913</td>\n",
       "      <td>0.374696</td>\n",
       "      <td>0.528428</td>\n",
       "      <td>0.599768</td>\n",
       "      <td>0.339225</td>\n",
       "      <td>0.783574</td>\n",
       "      <td>1.0</td>\n",
       "    </tr>\n",
       "    <tr>\n",
       "      <th>9</th>\n",
       "      <td>0.547476</td>\n",
       "      <td>0.022596</td>\n",
       "      <td>0.157770</td>\n",
       "      <td>0.317482</td>\n",
       "      <td>0.290400</td>\n",
       "      <td>0.271151</td>\n",
       "      <td>0.670979</td>\n",
       "      <td>0.764838</td>\n",
       "      <td>0.674767</td>\n",
       "      <td>0.489369</td>\n",
       "      <td>1.0</td>\n",
       "    </tr>\n",
       "  </tbody>\n",
       "</table>\n",
       "</div>"
      ],
      "text/plain": [
       "   mean_curv  gauss_curv    fpfh_1    fpfh_2    shot_1    shot_2    shot_3  \\\n",
       "0   0.574222    0.023021  0.189355  0.179383  0.149294  0.493119  0.384175   \n",
       "1   0.594986    0.024017  0.155496  0.099852  0.291369  0.286426  0.550478   \n",
       "2   0.540796    0.022298  0.263481  0.256346  0.343632  0.216385  0.458917   \n",
       "3   0.566919    0.023278  0.188420  0.201164  0.293386  0.287701  0.427172   \n",
       "4   0.567656    0.023081  0.170254  0.118173  0.304611  0.290573  0.443130   \n",
       "5   0.584575    0.023584  0.141270  0.157737  0.245510  0.339080  0.422308   \n",
       "6   0.525221    0.021717  0.375867  0.293390  0.383967  0.147898  0.652409   \n",
       "7   0.540077    0.022401  0.283213  0.332647  0.253213  0.370398  0.352965   \n",
       "8   0.572098    0.022859  0.189898  0.305650  0.233913  0.374696  0.528428   \n",
       "9   0.547476    0.022596  0.157770  0.317482  0.290400  0.271151  0.670979   \n",
       "\n",
       "       rf_1      rf_2      rf_3  WSS  \n",
       "0  0.395875  0.111081  0.669914  1.0  \n",
       "1  0.548554  0.457991  0.588103  1.0  \n",
       "2  0.597847  0.287536  0.688268  1.0  \n",
       "3  0.586290  0.388078  0.560212  1.0  \n",
       "4  0.494077  0.327877  0.477753  1.0  \n",
       "5  0.374689  0.263666  0.300532  1.0  \n",
       "6  0.516362  0.079696  0.782724  1.0  \n",
       "7  0.662774  0.366041  0.558571  1.0  \n",
       "8  0.599768  0.339225  0.783574  1.0  \n",
       "9  0.764838  0.674767  0.489369  1.0  "
      ]
     },
     "execution_count": 20,
     "metadata": {},
     "output_type": "execute_result"
    }
   ],
   "source": [
    "cols = [ 'mean_curv', 'gauss_curv', 'fpfh_1', 'fpfh_2', 'shot_1',\n",
    "       'shot_2', 'shot_3', 'rf_1', 'rf_2', 'rf_3', 'WSS']\n",
    "test_df = pd.DataFrame(dataset.test_dataset[0][1].x.numpy(), columns = cols)\n",
    "test_df.head(10)"
   ]
  },
  {
   "cell_type": "code",
   "execution_count": 61,
   "id": "bound-variance",
   "metadata": {},
   "outputs": [
    {
     "data": {
      "text/plain": [
       "array([1.], dtype=float32)"
      ]
     },
     "execution_count": 61,
     "metadata": {},
     "output_type": "execute_result"
    }
   ],
   "source": [
    "test_df.WSS.unique()"
   ]
  },
  {
   "cell_type": "code",
   "execution_count": 20,
   "id": "received-coupon",
   "metadata": {},
   "outputs": [
    {
     "data": {
      "image/png": "[encoded data removed]",
      "text/plain": [
       "<PIL.Image.Image image mode=RGB size=1024x412 at 0x1A26E6180C8>"
      ]
     },
     "metadata": {},
     "output_type": "display_data"
    },
    {
     "data": {
      "text/plain": [
       "[(0.6793325025732906, -0.21640190482139587, 6.391835305984409),\n",
       " (0.05519372224807739, -0.21640190482139587, 0.15044750273227692),\n",
       " (0.0, 0.0, 1.0)]"
      ]
     },
     "execution_count": 20,
     "metadata": {},
     "output_type": "execute_result"
    }
   ],
   "source": [
    "#@title Plot samples with part annotations { run: \"auto\" }\n",
    "objectid_1 = 0 #@param {type:\"slider\", min:0, max:100, step:1}\n",
    "objectid_2 = 1 #@param {type:\"slider\", min:0, max:100, step:1}\n",
    "objectid_3 = 2 #@param {type:\"slider\", min:0, max:100, step:1}\n",
    "\n",
    "samples = [objectid_1,objectid_2,objectid_3]\n",
    "p = pv.Plotter(notebook=True,shape=(1, len(samples)),window_size=[1024,412])\n",
    "for i in range(len(samples)):\n",
    "    p.subplot(0, i)\n",
    "    sample = dataset.train_dataset[samples[i]]\n",
    "    point_cloud = pv.PolyData(sample.pos.numpy())\n",
    "    point_cloud['y'] = sample.y.numpy()\n",
    "    p.add_points(point_cloud,  show_scalar_bar=False, point_size=3)\n",
    "    p.camera_position = [10,-0, 100]\n",
    "p.show()"
   ]
  },
  {
   "cell_type": "code",
   "execution_count": 31,
   "id": "bored-adelaide",
   "metadata": {},
   "outputs": [
    {
     "data": {
      "image/png": "[encoded data removed]",
      "text/plain": [
       "<PIL.Image.Image image mode=RGB size=1024x412 at 0x1A26E63DC88>"
      ]
     },
     "metadata": {},
     "output_type": "display_data"
    },
    {
     "data": {
      "text/plain": [
       "[(0.18299686055221823, -4.962870263851417, 0.2021503363136318),\n",
       " (0.1288345754146576, 0.18254682421684265, 0.14798805117607117),\n",
       " (0.0, 0.0, 1.0)]"
      ]
     },
     "execution_count": 31,
     "metadata": {},
     "output_type": "execute_result"
    }
   ],
   "source": [
    "#@title Plot samples with part annotations { run: \"auto\" }\n",
    "objectid_1 = 4 #@param {type:\"slider\", min:0, max:100, step:1}\n",
    "# objectid_2 = 1 #@param {type:\"slider\", min:0, max:100, step:1}\n",
    "# objectid_3 = 2 #@param {type:\"slider\", min:0, max:100, step:1}\n",
    "\n",
    "samples = [objectid_1]\n",
    "p = pv.Plotter(notebook=True,shape=(1, len(samples)),window_size=[1024,412])\n",
    "for i in range(len(samples)):\n",
    "    p.subplot(0, i)\n",
    "    sample = dataset.train_dataset[samples[i]]\n",
    "    point_cloud = pv.PolyData(sample.pos.numpy())\n",
    "    point_cloud['y'] = sample.y.numpy()\n",
    "    p.add_points(point_cloud,  show_scalar_bar=False, point_size=3)\n",
    "    p.camera_position = [10,-95, 10]\n",
    "p.show()"
   ]
  },
  {
   "cell_type": "markdown",
   "id": "integrated-quick",
   "metadata": {
    "colab_type": "text",
    "id": "sLSGJVf30G1C"
   },
   "source": [
    "## Model for part segmentation\n",
    "Let's start by creating a multihead segmentation module with one segmentation head per category. We provide that as part of Torch Points3D but let's reproduce it here for sake of completeness."
   ]
  },
  {
   "cell_type": "code",
   "execution_count": 22,
   "id": "civic-following",
   "metadata": {
    "colab": {},
    "colab_type": "code",
    "id": "V4k79sQhzryp"
   },
   "outputs": [],
   "source": [
    "from torch_points3d.core.common_modules import MLP, UnaryConv\n",
    "\n",
    "class MultiHeadClassifier(torch.nn.Module):\n",
    "    \"\"\" Allows segregated segmentation in case the category of an object is known. \n",
    "    This is the case in ShapeNet for example.\n",
    "\n",
    "    Parameters\n",
    "    ----------\n",
    "    in_features -\n",
    "        size of the input channel\n",
    "    cat_to_seg\n",
    "        category to segment maps for example:\n",
    "        {\n",
    "            'Airplane': [0,1,2],\n",
    "            'Table': [3,4]\n",
    "        }\n",
    "\n",
    "    \"\"\"\n",
    "\n",
    "    def __init__(self, in_features, cat_to_seg, dropout_proba=0.5, bn_momentum=0.1):\n",
    "        super().__init__()\n",
    "        self._cat_to_seg = {}\n",
    "        self._num_categories = len(cat_to_seg) #2\n",
    "        self._max_seg_count = 0\n",
    "        self._max_seg = 0\n",
    "        self._shifts = torch.zeros((self._num_categories,), dtype=torch.long)\n",
    "        for i, seg in enumerate(cat_to_seg.values()): #2 times for 2 keys\n",
    "            self._max_seg_count = max(self._max_seg_count, len(seg)) #overwriting every ith time\n",
    "            self._max_seg = max(self._max_seg, max(seg))\n",
    "            self._shifts[i] = min(seg)\n",
    "            self._cat_to_seg[i] = seg\n",
    "\n",
    "        self.channel_rasing = MLP(\n",
    "            [in_features, self._num_categories * in_features], bn_momentum=bn_momentum, bias=False\n",
    "        )\n",
    "        if dropout_proba:\n",
    "            self.channel_rasing.add_module(\"Dropout\", torch.nn.Dropout(p=dropout_proba))\n",
    "\n",
    "        self.classifier = UnaryConv((self._num_categories, in_features, self._max_seg_count))\n",
    "        self._bias = torch.nn.Parameter(torch.zeros(self._max_seg_count,))\n",
    "\n",
    "    def forward(self, features, category_labels, **kwargs):\n",
    "        assert features.dim() == 2\n",
    "        self._shifts = self._shifts.to(features.device)\n",
    "        in_dim = features.shape[-1]\n",
    "        features = self.channel_rasing(features)\n",
    "        features = features.reshape((-1, self._num_categories, in_dim))\n",
    "        features = features.transpose(0, 1)  # [num_categories, num_points, in_dim]\n",
    "        features = self.classifier(features) + self._bias  # [num_categories, num_points, max_seg]\n",
    "        ind = category_labels.unsqueeze(-1).repeat(1, 1, features.shape[-1]).long()\n",
    "\n",
    "        logits = features.gather(0, ind).squeeze(0)\n",
    "        softmax = torch.nn.functional.log_softmax(logits, dim=-1)\n",
    "\n",
    "        output = torch.zeros(logits.shape[0], self._max_seg + 1).to(features.device)\n",
    "        cats_in_batch = torch.unique(category_labels)\n",
    "        for cat in cats_in_batch:\n",
    "            cat_mask = category_labels == cat\n",
    "            seg_indices = self._cat_to_seg[cat.item()]\n",
    "            probs = softmax[cat_mask, : len(seg_indices)]\n",
    "            output[cat_mask, seg_indices[0] : seg_indices[-1] + 1] = probs\n",
    "        \n",
    "        return output"
   ]
  },
  {
   "cell_type": "markdown",
   "id": "common-comfort",
   "metadata": {
    "colab_type": "text",
    "id": "vk2LyH-IT2KG"
   },
   "source": [
    "The model we implement here follows the main architecture proposed in the [original paper](https://arxiv.org/abs/1904.08889):\n",
    "\n",
    "<p align=\"center\">\n",
    "  <img width=\"70%\" src=\"https://drive.google.com/uc?export=view&id=1CJppQ88T69whjYsJc016L3_E_rtcJ8n1\" />\n",
    "</p>"
   ]
  },
  {
   "cell_type": "code",
   "execution_count": 57,
   "id": "biological-proportion",
   "metadata": {
    "colab": {},
    "colab_type": "code",
    "id": "ZnyHC6Gx1nIw"
   },
   "outputs": [],
   "source": [
    "from torch_points3d.applications.kpconv import KPConv\n",
    "\n",
    "\n",
    "class PartSegKPConv(torch.nn.Module):\n",
    "    def __init__(self, cat_to_seg):\n",
    "        super().__init__()\n",
    "        self.unet = KPConv(\n",
    "            architecture=\"unet\", \n",
    "            input_nc= 4, \n",
    "            num_layers=4, \n",
    "            in_grid_size=0.02\n",
    "            )\n",
    "        self.classifier = MultiHeadClassifier(self.unet.output_nc, cat_to_seg)\n",
    "    \n",
    "    @property\n",
    "    def conv_type(self):\n",
    "        \"\"\" This is needed by the dataset to infer which batch collate should be used\"\"\"\n",
    "        return self.unet.conv_type\n",
    "    \n",
    "    def get_batch(self):\n",
    "        return self.batch\n",
    "    \n",
    "    def get_output(self):\n",
    "        \"\"\" This is needed by the tracker to get access to the ouputs of the network\"\"\"\n",
    "        return self.output\n",
    "    \n",
    "    def get_labels(self):\n",
    "        \"\"\" Needed by the tracker in order to access ground truth labels\"\"\"\n",
    "        return self.labels\n",
    "    \n",
    "    def get_current_losses(self):\n",
    "        \"\"\" Entry point for the tracker to grab the loss \"\"\"\n",
    "        return {\"loss_seg\": float(self.loss_seg)}\n",
    "\n",
    "    def forward(self, data):\n",
    "        self.labels = data.y\n",
    "        self.batch = data.batch\n",
    "        \n",
    "        # Forward through unet and classifier\n",
    "        data_features = self.unet(data)\n",
    "        self.output = self.classifier(data_features.x, data.category)\n",
    "\n",
    "         # Set loss for the backward pass\n",
    "        self.loss_seg = torch.nn.functional.nll_loss(self.output, self.labels)\n",
    "        return self.output\n",
    "\n",
    "    def get_spatial_ops(self):\n",
    "        return self.unet.get_spatial_ops()\n",
    "        \n",
    "    def backward(self):\n",
    "         self.loss_seg.backward() \n",
    "\n",
    "    "
   ]
  },
  {
   "cell_type": "code",
   "execution_count": 47,
   "id": "adopted-tonight",
   "metadata": {
    "colab": {},
    "colab_type": "code",
    "id": "QQ0GUiv22KKb"
   },
   "outputs": [],
   "source": [
    "# cat_to_seg = {'aneur': [0,1,2,3,4]\n",
    "#              }\n",
    "# model = PartSegKPConv(cat_to_seg)"
   ]
  },
  {
   "cell_type": "code",
   "execution_count": 58,
   "id": "advised-arcade",
   "metadata": {
    "scrolled": true
   },
   "outputs": [],
   "source": [
    "model = PartSegKPConv(dataset.class_to_segments)"
   ]
  },
  {
   "cell_type": "markdown",
   "id": "modern-husband",
   "metadata": {
    "colab_type": "text",
    "id": "k9Bx8GjE3Kt7"
   },
   "source": [
    "## The data loaders and CPU pre computing features\n",
    "KPConv is quite demanding on spatial operations such as grid sampling and radius search. On the network loaded here we have 10 KPConv layers on the encoder which means 10 radius search operations with varying number of neighbours. We observed a significant performance gain by moving those operations to the CPU where they can easily be optimised with suitable data structures such as kd-tree. We use [nonaflann](https://github.com/jlblancoc/nanoflann) in the back-end, a 3D optimised kd-tree implementation. Note that this is beneficiary only if you have access to multiple CPU threads.\n",
    "\n",
    "You can decide to precompute those spatial operations by setting the `precompute_multi_scale` parameter to `True` when creating the data loaders. The dataset will mine the model to figure out which spatial operations are required and in which order."
   ]
  },
  {
   "cell_type": "code",
   "execution_count": 59,
   "id": "eligible-cleanup",
   "metadata": {
    "colab": {},
    "colab_type": "code",
    "id": "i1k4CNG12RXN"
   },
   "outputs": [],
   "source": [
    "NUM_WORKERS = 2\n",
    "BATCH_SIZE = 3 \n",
    "dataset.create_dataloaders(\n",
    "    model,\n",
    "    batch_size=BATCH_SIZE, \n",
    "    num_workers=NUM_WORKERS, \n",
    "    shuffle=True, \n",
    "    precompute_multi_scale=True \n",
    "    )"
   ]
  },
  {
   "cell_type": "code",
   "execution_count": 60,
   "id": "steady-mentor",
   "metadata": {
    "colab": {
     "base_uri": "https://localhost:8080/",
     "height": 182
    },
    "colab_type": "code",
    "id": "4wdS3y_aVIbm",
    "outputId": "5e564d1d-e966-41f3-a95f-ea830ee239f7"
   },
   "outputs": [
    {
     "data": {
      "text/plain": [
       "['x',\n",
       " 'y',\n",
       " 'pos',\n",
       " 'multiscale',\n",
       " 'upsample',\n",
       " 'batch',\n",
       " 'category',\n",
       " 'grid_size',\n",
       " 'id_scan',\n",
       " 'origin_id']"
      ]
     },
     "execution_count": 60,
     "metadata": {},
     "output_type": "execute_result"
    }
   ],
   "source": [
    "sample = next(iter(dataset.train_dataloader))\n",
    "sample.keys"
   ]
  },
  {
   "cell_type": "markdown",
   "id": "forty-assurance",
   "metadata": {
    "colab_type": "text",
    "id": "A5pl2g9ap1Fq"
   },
   "source": [
    "Our `sample` contains the pre computed spatial information in the `multiscale` (encoder side) and `upsample` (decoder) attrivutes. The decoder pre computing is quite simple and just involves some basic caching for the nearest neighbour interpolation operation. Let's take a look at the encoder side of things first. "
   ]
  },
  {
   "cell_type": "code",
   "execution_count": 27,
   "id": "genuine-metro",
   "metadata": {
    "colab": {
     "base_uri": "https://localhost:8080/",
     "height": 201
    },
    "colab_type": "code",
    "id": "z0o8yQF4FWvV",
    "outputId": "3a17a960-ea06-4037-e224-5e0853a48b9e",
    "scrolled": true
   },
   "outputs": [
    {
     "data": {
      "text/plain": [
       "[Batch(batch=[26721], idx_neighboors=[26721, 25], pos=[26721, 3]),\n",
       " Batch(batch=[26721], idx_neighboors=[26721, 25], pos=[26721, 3]),\n",
       " Batch(batch=[9876], grid_size=[3], idx_neighboors=[9876, 25], pos=[9876, 3]),\n",
       " Batch(batch=[9876], idx_neighboors=[9876, 25], pos=[9876, 3]),\n",
       " Batch(batch=[2220], grid_size=[3], idx_neighboors=[2220, 25], pos=[2220, 3]),\n",
       " Batch(batch=[2220], idx_neighboors=[2220, 25], pos=[2220, 3]),\n",
       " Batch(batch=[520], grid_size=[3], idx_neighboors=[520, 25], pos=[520, 3]),\n",
       " Batch(batch=[520], idx_neighboors=[520, 25], pos=[520, 3]),\n",
       " Batch(batch=[129], grid_size=[3], idx_neighboors=[129, 25], pos=[129, 3]),\n",
       " Batch(batch=[129], idx_neighboors=[129, 25], pos=[129, 3])]"
      ]
     },
     "execution_count": 27,
     "metadata": {},
     "output_type": "execute_result"
    }
   ],
   "source": [
    "sample.multiscale"
   ]
  },
  {
   "cell_type": "code",
   "execution_count": 61,
   "id": "decreased-mississippi",
   "metadata": {},
   "outputs": [
    {
     "data": {
      "text/plain": [
       "[Batch(batch=[28038], idx_neighboors=[28038, 25], pos=[28038, 3]),\n",
       " Batch(batch=[28038], idx_neighboors=[28038, 25], pos=[28038, 3]),\n",
       " Batch(batch=[10998], grid_size=[3], idx_neighboors=[10998, 25], pos=[10998, 3]),\n",
       " Batch(batch=[10998], idx_neighboors=[10998, 25], pos=[10998, 3]),\n",
       " Batch(batch=[2551], grid_size=[3], idx_neighboors=[2551, 25], pos=[2551, 3]),\n",
       " Batch(batch=[2551], idx_neighboors=[2551, 25], pos=[2551, 3]),\n",
       " Batch(batch=[616], grid_size=[3], idx_neighboors=[616, 25], pos=[616, 3]),\n",
       " Batch(batch=[616], idx_neighboors=[616, 25], pos=[616, 3]),\n",
       " Batch(batch=[135], grid_size=[3], idx_neighboors=[135, 25], pos=[135, 3]),\n",
       " Batch(batch=[135], idx_neighboors=[135, 25], pos=[135, 3])]"
      ]
     },
     "execution_count": 61,
     "metadata": {},
     "output_type": "execute_result"
    }
   ],
   "source": [
    "sample.multiscale"
   ]
  },
  {
   "cell_type": "markdown",
   "id": "municipal-receipt",
   "metadata": {
    "colab_type": "text",
    "id": "B-2bjfQyqUyH"
   },
   "source": [
    "`sample.multiscale` contains 10 different versions of the input batch, each one of these versions contains the location of the points in `pos` as well as the neighbours of these points in the previous point cloud. We will first look at the points coming out of each downsampling layer (strided convolution), we have 5 of them."
   ]
  },
  {
   "cell_type": "markdown",
   "id": "illegal-swift",
   "metadata": {
    "colab_type": "text",
    "id": "OsOeG_VXW5lC"
   },
   "source": [
    "## Training loop"
   ]
  },
  {
   "cell_type": "code",
   "execution_count": 28,
   "id": "dangerous-anthony",
   "metadata": {
    "colab": {},
    "colab_type": "code",
    "id": "Hg3O2swzW7if"
   },
   "outputs": [],
   "source": [
    "from tqdm.auto import tqdm\n",
    "import time\n",
    "\n",
    "class Trainer:\n",
    "    def __init__(self,model, dataset, num_epoch = 5, device=torch.device('cpu')):\n",
    "        self.num_epoch = num_epoch\n",
    "        self._model = model\n",
    "        self._dataset=dataset\n",
    "        self.device = device\n",
    "\n",
    "    def fit(self):\n",
    "        self.optimizer = torch.optim.Adam(self._model.parameters(), lr=0.001)\n",
    "        self.tracker = self._dataset.get_tracker(False, True)\n",
    "\n",
    "        for i in range(self.num_epoch):\n",
    "            print(\"=========== EPOCH %i ===========\" % i)\n",
    "            time.sleep(0.5)\n",
    "            self.train_epoch()\n",
    "            self.tracker.publish(i)\n",
    "            self.test_epoch()\n",
    "            self.tracker.publish(i)\n",
    "\n",
    "    def train_epoch(self):\n",
    "        self._model.to(self.device)\n",
    "        self._model.train()\n",
    "        self.tracker.reset(\"train\")\n",
    "        train_loader = self._dataset.train_dataloader\n",
    "        iter_data_time = time.time()\n",
    "        with tqdm(train_loader) as tq_train_loader:\n",
    "            for i, data in enumerate(tq_train_loader):\n",
    "                t_data = time.time() - iter_data_time\n",
    "                iter_start_time = time.time()\n",
    "                self.optimizer.zero_grad()\n",
    "                data.to(self.device)\n",
    "                self._model.forward(data)\n",
    "                self._model.backward()\n",
    "                self.optimizer.step()\n",
    "                if i % 10 == 0:\n",
    "                    self.tracker.track(self._model)\n",
    "\n",
    "                tq_train_loader.set_postfix(\n",
    "                    **self.tracker.get_metrics(),\n",
    "                    data_loading=float(t_data),\n",
    "                    iteration=float(time.time() - iter_start_time),\n",
    "                )\n",
    "                iter_data_time = time.time()\n",
    "\n",
    "    def test_epoch(self):\n",
    "        self._model.to(self.device)\n",
    "        self._model.eval()\n",
    "        self.tracker.reset(\"test\")\n",
    "        test_loader = self._dataset.test_dataloaders[0]\n",
    "        iter_data_time = time.time()\n",
    "        with tqdm(test_loader) as tq_test_loader:\n",
    "            for i, data in enumerate(tq_test_loader):\n",
    "                t_data = time.time() - iter_data_time\n",
    "                iter_start_time = time.time()\n",
    "                data.to(self.device)\n",
    "                self._model.forward(data)           \n",
    "                self.tracker.track(self._model)\n",
    "\n",
    "                tq_test_loader.set_postfix(\n",
    "                    **self.tracker.get_metrics(),\n",
    "                    data_loading=float(t_data),\n",
    "                    iteration=float(time.time() - iter_start_time),\n",
    "                )\n",
    "                iter_data_time = time.time()"
   ]
  },
  {
   "cell_type": "code",
   "execution_count": 29,
   "id": "million-nation",
   "metadata": {
    "colab": {},
    "colab_type": "code",
    "id": "xFaIG1SBchHg"
   },
   "outputs": [],
   "source": [
    "trainer = Trainer(model, dataset)"
   ]
  },
  {
   "cell_type": "code",
   "execution_count": 49,
   "id": "existing-siemens",
   "metadata": {},
   "outputs": [
    {
     "name": "stdout",
     "output_type": "stream",
     "text": [
      "=========== EPOCH 0 ===========\n"
     ]
    },
    {
     "data": {
      "application/vnd.jupyter.widget-view+json": {
       "model_id": "47f26cc5b9e64a3dbd934918f43ee0b3",
       "version_major": 2,
       "version_minor": 0
      },
      "text/plain": [
       "  0%|          | 0/4 [00:10<?, ?it/s]"
      ]
     },
     "metadata": {},
     "output_type": "display_data"
    },
    {
     "data": {
      "application/vnd.jupyter.widget-view+json": {
       "model_id": "2be272190ad243a8a45ffe560b03df7e",
       "version_major": 2,
       "version_minor": 0
      },
      "text/plain": [
       "  0%|          | 0/1 [00:11<?, ?it/s]"
      ]
     },
     "metadata": {},
     "output_type": "display_data"
    },
    {
     "name": "stdout",
     "output_type": "stream",
     "text": [
      "=========== EPOCH 1 ===========\n"
     ]
    },
    {
     "data": {
      "application/vnd.jupyter.widget-view+json": {
       "model_id": "57f9aa96d305455aaf50fd488f0a2941",
       "version_major": 2,
       "version_minor": 0
      },
      "text/plain": [
       "  0%|          | 0/4 [00:10<?, ?it/s]"
      ]
     },
     "metadata": {},
     "output_type": "display_data"
    },
    {
     "data": {
      "application/vnd.jupyter.widget-view+json": {
       "model_id": "bfae14b3307248d3ad0fdb335d67cdff",
       "version_major": 2,
       "version_minor": 0
      },
      "text/plain": [
       "  0%|          | 0/1 [00:10<?, ?it/s]"
      ]
     },
     "metadata": {},
     "output_type": "display_data"
    },
    {
     "name": "stdout",
     "output_type": "stream",
     "text": [
      "=========== EPOCH 2 ===========\n"
     ]
    },
    {
     "data": {
      "application/vnd.jupyter.widget-view+json": {
       "model_id": "7f6b76948e344cd796f90c41ff1efc1d",
       "version_major": 2,
       "version_minor": 0
      },
      "text/plain": [
       "  0%|          | 0/4 [00:10<?, ?it/s]"
      ]
     },
     "metadata": {},
     "output_type": "display_data"
    },
    {
     "data": {
      "application/vnd.jupyter.widget-view+json": {
       "model_id": "6d0cfa912d9f4436bc1bcf4d1aeace8f",
       "version_major": 2,
       "version_minor": 0
      },
      "text/plain": [
       "  0%|          | 0/1 [00:10<?, ?it/s]"
      ]
     },
     "metadata": {},
     "output_type": "display_data"
    },
    {
     "name": "stdout",
     "output_type": "stream",
     "text": [
      "=========== EPOCH 3 ===========\n"
     ]
    },
    {
     "data": {
      "application/vnd.jupyter.widget-view+json": {
       "model_id": "05fd7992015a464eb7c4d9177e6cd335",
       "version_major": 2,
       "version_minor": 0
      },
      "text/plain": [
       "  0%|          | 0/4 [00:10<?, ?it/s]"
      ]
     },
     "metadata": {},
     "output_type": "display_data"
    },
    {
     "data": {
      "application/vnd.jupyter.widget-view+json": {
       "model_id": "8c29273271054d458b36a0e54b995431",
       "version_major": 2,
       "version_minor": 0
      },
      "text/plain": [
       "  0%|          | 0/1 [00:10<?, ?it/s]"
      ]
     },
     "metadata": {},
     "output_type": "display_data"
    },
    {
     "name": "stdout",
     "output_type": "stream",
     "text": [
      "=========== EPOCH 4 ===========\n"
     ]
    },
    {
     "data": {
      "application/vnd.jupyter.widget-view+json": {
       "model_id": "2bbfbaa4656b47198fa7487be2989f62",
       "version_major": 2,
       "version_minor": 0
      },
      "text/plain": [
       "  0%|          | 0/4 [00:10<?, ?it/s]"
      ]
     },
     "metadata": {},
     "output_type": "display_data"
    },
    {
     "data": {
      "application/vnd.jupyter.widget-view+json": {
       "model_id": "9a50ad3867ad46febb881fc042a7d6ce",
       "version_major": 2,
       "version_minor": 0
      },
      "text/plain": [
       "  0%|          | 0/1 [00:10<?, ?it/s]"
      ]
     },
     "metadata": {},
     "output_type": "display_data"
    }
   ],
   "source": [
    "trainer.fit()"
   ]
  },
  {
   "cell_type": "code",
   "execution_count": 24,
   "id": "dated-brunei",
   "metadata": {
    "colab": {
     "base_uri": "https://localhost:8080/",
     "height": 95,
     "referenced_widgets": [
      "8f58dfcaa0dd4dc0b4671c8350199388",
      "efaf0403696444919d2a454b1a77d28b",
      "d854f496052a4bf29a3459c487fe5304",
      "8d4e84720a394f44b0994e3788285878",
      "4504ad204d3241a6ba2f71cd4021a028",
      "e54acd47d4f8465da63ff2a5d425c42c",
      "3d23c649ccf7408c85905baa03a144aa",
      "93fbdcc2d2094c37a36c34b1d9c769df"
     ]
    },
    "colab_type": "code",
    "id": "ydhhP0CdcqO1",
    "outputId": "0888b8ae-e57d-4aac-e53b-e30067bc1dac",
    "scrolled": false
   },
   "outputs": [
    {
     "name": "stdout",
     "output_type": "stream",
     "text": [
      "=========== EPOCH 0 ===========\n"
     ]
    },
    {
     "data": {
      "application/vnd.jupyter.widget-view+json": {
       "model_id": "4cdf18a31c704ebdb2d3381968148cf4",
       "version_major": 2,
       "version_minor": 0
      },
      "text/plain": [
       "  0%|          | 0/4 [00:11<?, ?it/s]"
      ]
     },
     "metadata": {},
     "output_type": "display_data"
    },
    {
     "data": {
      "application/vnd.jupyter.widget-view+json": {
       "model_id": "23396aa365a14b32bc0f189af59d44f5",
       "version_major": 2,
       "version_minor": 0
      },
      "text/plain": [
       "  0%|          | 0/1 [00:11<?, ?it/s]"
      ]
     },
     "metadata": {},
     "output_type": "display_data"
    },
    {
     "name": "stdout",
     "output_type": "stream",
     "text": [
      "=========== EPOCH 1 ===========\n"
     ]
    },
    {
     "data": {
      "application/vnd.jupyter.widget-view+json": {
       "model_id": "e18cca76ea0b44908b27d18f5c14f6ff",
       "version_major": 2,
       "version_minor": 0
      },
      "text/plain": [
       "  0%|          | 0/4 [00:10<?, ?it/s]"
      ]
     },
     "metadata": {},
     "output_type": "display_data"
    },
    {
     "data": {
      "application/vnd.jupyter.widget-view+json": {
       "model_id": "58517e84b7e74dc4bed3d3ee46ab335a",
       "version_major": 2,
       "version_minor": 0
      },
      "text/plain": [
       "  0%|          | 0/1 [00:09<?, ?it/s]"
      ]
     },
     "metadata": {},
     "output_type": "display_data"
    },
    {
     "name": "stdout",
     "output_type": "stream",
     "text": [
      "=========== EPOCH 2 ===========\n"
     ]
    },
    {
     "data": {
      "application/vnd.jupyter.widget-view+json": {
       "model_id": "23b13426f8fd40e4b7726ce24de43281",
       "version_major": 2,
       "version_minor": 0
      },
      "text/plain": [
       "  0%|          | 0/4 [00:11<?, ?it/s]"
      ]
     },
     "metadata": {},
     "output_type": "display_data"
    },
    {
     "data": {
      "application/vnd.jupyter.widget-view+json": {
       "model_id": "ef439bc6976e4467befff0228556a7f4",
       "version_major": 2,
       "version_minor": 0
      },
      "text/plain": [
       "  0%|          | 0/1 [00:10<?, ?it/s]"
      ]
     },
     "metadata": {},
     "output_type": "display_data"
    }
   ],
   "source": [
    "trainer.fit()"
   ]
  },
  {
   "cell_type": "code",
   "execution_count": 30,
   "id": "medieval-resistance",
   "metadata": {
    "scrolled": true
   },
   "outputs": [
    {
     "name": "stdout",
     "output_type": "stream",
     "text": [
      "=========== EPOCH 0 ===========\n"
     ]
    },
    {
     "data": {
      "application/vnd.jupyter.widget-view+json": {
       "model_id": "9efcb73c101c4734bddc67e969ec7e2e",
       "version_major": 2,
       "version_minor": 0
      },
      "text/plain": [
       "  0%|          | 0/4 [00:12<?, ?it/s]"
      ]
     },
     "metadata": {},
     "output_type": "display_data"
    },
    {
     "data": {
      "application/vnd.jupyter.widget-view+json": {
       "model_id": "ceb7cc68c44149f4b0f8df1c9fb603a1",
       "version_major": 2,
       "version_minor": 0
      },
      "text/plain": [
       "  0%|          | 0/1 [00:09<?, ?it/s]"
      ]
     },
     "metadata": {},
     "output_type": "display_data"
    },
    {
     "name": "stdout",
     "output_type": "stream",
     "text": [
      "=========== EPOCH 1 ===========\n"
     ]
    },
    {
     "data": {
      "application/vnd.jupyter.widget-view+json": {
       "model_id": "950e919e49c44603bdd6e27b44e736d1",
       "version_major": 2,
       "version_minor": 0
      },
      "text/plain": [
       "  0%|          | 0/4 [00:09<?, ?it/s]"
      ]
     },
     "metadata": {},
     "output_type": "display_data"
    },
    {
     "data": {
      "application/vnd.jupyter.widget-view+json": {
       "model_id": "355ea5bc972e472e8571cc7902c99d19",
       "version_major": 2,
       "version_minor": 0
      },
      "text/plain": [
       "  0%|          | 0/1 [00:09<?, ?it/s]"
      ]
     },
     "metadata": {},
     "output_type": "display_data"
    },
    {
     "name": "stdout",
     "output_type": "stream",
     "text": [
      "=========== EPOCH 2 ===========\n"
     ]
    },
    {
     "data": {
      "application/vnd.jupyter.widget-view+json": {
       "model_id": "a20b710277494abeb125e9f2a37bb59c",
       "version_major": 2,
       "version_minor": 0
      },
      "text/plain": [
       "  0%|          | 0/4 [00:09<?, ?it/s]"
      ]
     },
     "metadata": {},
     "output_type": "display_data"
    },
    {
     "data": {
      "application/vnd.jupyter.widget-view+json": {
       "model_id": "c5a313cf2d4e4cdfb128ae99ffe313e6",
       "version_major": 2,
       "version_minor": 0
      },
      "text/plain": [
       "  0%|          | 0/1 [00:09<?, ?it/s]"
      ]
     },
     "metadata": {},
     "output_type": "display_data"
    },
    {
     "name": "stdout",
     "output_type": "stream",
     "text": [
      "=========== EPOCH 3 ===========\n"
     ]
    },
    {
     "data": {
      "application/vnd.jupyter.widget-view+json": {
       "model_id": "e35509e02c0446b9b687220584102967",
       "version_major": 2,
       "version_minor": 0
      },
      "text/plain": [
       "  0%|          | 0/4 [00:10<?, ?it/s]"
      ]
     },
     "metadata": {},
     "output_type": "display_data"
    },
    {
     "data": {
      "application/vnd.jupyter.widget-view+json": {
       "model_id": "037b97f3766d4a81b5b6dfef564759fa",
       "version_major": 2,
       "version_minor": 0
      },
      "text/plain": [
       "  0%|          | 0/1 [00:09<?, ?it/s]"
      ]
     },
     "metadata": {},
     "output_type": "display_data"
    },
    {
     "name": "stdout",
     "output_type": "stream",
     "text": [
      "=========== EPOCH 4 ===========\n"
     ]
    },
    {
     "data": {
      "application/vnd.jupyter.widget-view+json": {
       "model_id": "96133d5f47674576ae4f9cc376dc2055",
       "version_major": 2,
       "version_minor": 0
      },
      "text/plain": [
       "  0%|          | 0/4 [00:10<?, ?it/s]"
      ]
     },
     "metadata": {},
     "output_type": "display_data"
    },
    {
     "data": {
      "application/vnd.jupyter.widget-view+json": {
       "model_id": "75da1006390d45ab9336166719d2ce6d",
       "version_major": 2,
       "version_minor": 0
      },
      "text/plain": [
       "  0%|          | 0/1 [00:11<?, ?it/s]"
      ]
     },
     "metadata": {},
     "output_type": "display_data"
    }
   ],
   "source": [
    "trainer.fit()"
   ]
  },
  {
   "cell_type": "code",
   "execution_count": 62,
   "id": "subjective-nicholas",
   "metadata": {
    "scrolled": true
   },
   "outputs": [
    {
     "name": "stdout",
     "output_type": "stream",
     "text": [
      "=========== EPOCH 0 ===========\n"
     ]
    },
    {
     "data": {
      "application/vnd.jupyter.widget-view+json": {
       "model_id": "f4a7809110c94f6789a125ea290b2e73",
       "version_major": 2,
       "version_minor": 0
      },
      "text/plain": [
       "  0%|          | 0/4 [00:09<?, ?it/s]"
      ]
     },
     "metadata": {},
     "output_type": "display_data"
    },
    {
     "data": {
      "application/vnd.jupyter.widget-view+json": {
       "model_id": "09231bdb63174ca6b4cd025bc8d22b44",
       "version_major": 2,
       "version_minor": 0
      },
      "text/plain": [
       "  0%|          | 0/1 [00:09<?, ?it/s]"
      ]
     },
     "metadata": {},
     "output_type": "display_data"
    },
    {
     "name": "stdout",
     "output_type": "stream",
     "text": [
      "=========== EPOCH 1 ===========\n"
     ]
    },
    {
     "data": {
      "application/vnd.jupyter.widget-view+json": {
       "model_id": "85a4d2853d5c48e080ea9a366795bff1",
       "version_major": 2,
       "version_minor": 0
      },
      "text/plain": [
       "  0%|          | 0/4 [00:10<?, ?it/s]"
      ]
     },
     "metadata": {},
     "output_type": "display_data"
    },
    {
     "data": {
      "application/vnd.jupyter.widget-view+json": {
       "model_id": "5af103aabebd476fa8fcf96692140481",
       "version_major": 2,
       "version_minor": 0
      },
      "text/plain": [
       "  0%|          | 0/1 [00:09<?, ?it/s]"
      ]
     },
     "metadata": {},
     "output_type": "display_data"
    },
    {
     "name": "stdout",
     "output_type": "stream",
     "text": [
      "=========== EPOCH 2 ===========\n"
     ]
    },
    {
     "data": {
      "application/vnd.jupyter.widget-view+json": {
       "model_id": "c7dbbd5a5f784637acaefb0ddb4dd613",
       "version_major": 2,
       "version_minor": 0
      },
      "text/plain": [
       "  0%|          | 0/4 [00:09<?, ?it/s]"
      ]
     },
     "metadata": {},
     "output_type": "display_data"
    },
    {
     "data": {
      "application/vnd.jupyter.widget-view+json": {
       "model_id": "d96c2ef99ecf493098acd2635d162c9b",
       "version_major": 2,
       "version_minor": 0
      },
      "text/plain": [
       "  0%|          | 0/1 [00:09<?, ?it/s]"
      ]
     },
     "metadata": {},
     "output_type": "display_data"
    },
    {
     "name": "stdout",
     "output_type": "stream",
     "text": [
      "=========== EPOCH 3 ===========\n"
     ]
    },
    {
     "data": {
      "application/vnd.jupyter.widget-view+json": {
       "model_id": "b1a8039aad634969a39245bb90379a37",
       "version_major": 2,
       "version_minor": 0
      },
      "text/plain": [
       "  0%|          | 0/4 [00:10<?, ?it/s]"
      ]
     },
     "metadata": {},
     "output_type": "display_data"
    },
    {
     "data": {
      "application/vnd.jupyter.widget-view+json": {
       "model_id": "e54c71d427574ff7b71e2dc82a68f5ed",
       "version_major": 2,
       "version_minor": 0
      },
      "text/plain": [
       "  0%|          | 0/1 [00:10<?, ?it/s]"
      ]
     },
     "metadata": {},
     "output_type": "display_data"
    },
    {
     "name": "stdout",
     "output_type": "stream",
     "text": [
      "=========== EPOCH 4 ===========\n"
     ]
    },
    {
     "data": {
      "application/vnd.jupyter.widget-view+json": {
       "model_id": "c378cc8a48a04a6182fbdbfe763a6b8a",
       "version_major": 2,
       "version_minor": 0
      },
      "text/plain": [
       "  0%|          | 0/4 [00:09<?, ?it/s]"
      ]
     },
     "metadata": {},
     "output_type": "display_data"
    },
    {
     "data": {
      "application/vnd.jupyter.widget-view+json": {
       "model_id": "c715ca7dfbc64e558ff47ccc7f0138ca",
       "version_major": 2,
       "version_minor": 0
      },
      "text/plain": [
       "  0%|          | 0/1 [00:10<?, ?it/s]"
      ]
     },
     "metadata": {},
     "output_type": "display_data"
    }
   ],
   "source": [
    "#WIth curvature features\n",
    "trainer.fit()"
   ]
  },
  {
   "cell_type": "code",
   "execution_count": 25,
   "id": "rising-wallet",
   "metadata": {},
   "outputs": [
    {
     "data": {
      "text/plain": [
       "ERROR: Timed out waiting for TensorBoard to start. It may still be running as pid 14152."
      ]
     },
     "metadata": {},
     "output_type": "display_data"
    }
   ],
   "source": [
    "%load_ext tensorboard\n",
    "%tensorboard --logdir lightning_logs/version_4/ # Change for your log location"
   ]
  },
  {
   "cell_type": "code",
   "execution_count": 34,
   "id": "binding-atlas",
   "metadata": {},
   "outputs": [],
   "source": [
    "tensor1 = torch.randn(10, 3, 4)\n",
    "tensor2 = torch.randn(10, 5, 5)\n"
   ]
  },
  {
   "cell_type": "code",
   "execution_count": 35,
   "id": "contrary-handy",
   "metadata": {},
   "outputs": [
    {
     "ename": "RuntimeError",
     "evalue": "Expected batch2_sizes[0] == bs && batch2_sizes[1] == contraction_size to be true, but got false.  (Could this error message be improved?  If so, please report an enhancement request to PyTorch.)",
     "output_type": "error",
     "traceback": [
      "\u001b[1;31m---------------------------------------------------------------------------\u001b[0m",
      "\u001b[1;31mRuntimeError\u001b[0m                              Traceback (most recent call last)",
      "\u001b[1;32m<ipython-input-35-2a26bfe0ac4e>\u001b[0m in \u001b[0;36m<module>\u001b[1;34m\u001b[0m\n\u001b[1;32m----> 1\u001b[1;33m \u001b[0mtorch\u001b[0m\u001b[1;33m.\u001b[0m\u001b[0mmatmul\u001b[0m\u001b[1;33m(\u001b[0m\u001b[0mtensor1\u001b[0m\u001b[1;33m,\u001b[0m \u001b[0mtensor2\u001b[0m\u001b[1;33m)\u001b[0m\u001b[1;33m.\u001b[0m\u001b[0msize\u001b[0m\u001b[1;33m(\u001b[0m\u001b[1;33m)\u001b[0m\u001b[1;33m\u001b[0m\u001b[1;33m\u001b[0m\u001b[0m\n\u001b[0m",
      "\u001b[1;31mRuntimeError\u001b[0m: Expected batch2_sizes[0] == bs && batch2_sizes[1] == contraction_size to be true, but got false.  (Could this error message be improved?  If so, please report an enhancement request to PyTorch.)"
     ]
    }
   ],
   "source": [
    "torch.matmul(tensor1, tensor2).size()"
   ]
  },
  {
   "cell_type": "code",
   "execution_count": null,
   "id": "minus-romania",
   "metadata": {},
   "outputs": [],
   "source": []
  }
 ],
 "metadata": {
  "kernelspec": {
   "display_name": "Python 3",
   "language": "python",
   "name": "python3"
  },
  "language_info": {
   "codemirror_mode": {
    "name": "ipython",
    "version": 3
   },
   "file_extension": ".py",
   "mimetype": "text/x-python",
   "name": "python",
   "nbconvert_exporter": "python",
   "pygments_lexer": "ipython3",
   "version": "3.7.7"
  }
 },
 "nbformat": 4,
 "nbformat_minor": 5
}
