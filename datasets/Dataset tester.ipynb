{
 "cells": [
  {
   "cell_type": "code",
   "execution_count": 1,
   "id": "likely-north",
   "metadata": {},
   "outputs": [],
   "source": [
    "from torch_points3d.datasets.base_dataset import BaseDataset\n",
    "from torch.utils.data import Dataset"
   ]
  },
  {
   "cell_type": "code",
   "execution_count": 2,
   "id": "virgin-refund",
   "metadata": {},
   "outputs": [],
   "source": [
    "import numpy as np\n",
    "import pandas as pd\n",
    "import time \n",
    "import os\n",
    "import torch\n",
    "import matplotlib.pyplot as plt\n",
    "import seaborn as sns\n",
    "import torch\n",
    "\n",
    "from torch_geometric.io import read_txt_array\n",
    "from sklearn.preprocessing import StandardScaler, MinMaxScaler, MaxAbsScaler\n",
    "\n",
    "from plyfile import PlyData, PlyElement,PlyProperty, PlyListProperty\n",
    "\n",
    "import sys\n",
    "from omegaconf import OmegaConf\n",
    "import pyvista as pv\n",
    "import ipdb"
   ]
  },
  {
   "cell_type": "code",
   "execution_count": 3,
   "id": "friendly-measure",
   "metadata": {},
   "outputs": [],
   "source": [
    "%load_ext autoreload\n",
    "%autoreload 2"
   ]
  },
  {
   "cell_type": "code",
   "execution_count": 4,
   "id": "vanilla-supplier",
   "metadata": {},
   "outputs": [],
   "source": [
    "pd.set_option(\"display.max_rows\", 1000)\n",
    "pd.set_option(\"display.max_columns\", 2000)\n",
    "pd.set_option(\"display.max_colwidth\", 256)\n",
    "\n",
    "torch.set_printoptions(precision=8)"
   ]
  },
  {
   "cell_type": "code",
   "execution_count": 5,
   "id": "compressed-change",
   "metadata": {},
   "outputs": [],
   "source": [
    "%matplotlib inline\n",
    "sns.set(rc={'figure.figsize':(8,6)})\n"
   ]
  },
  {
   "cell_type": "code",
   "execution_count": null,
   "id": "sixth-finish",
   "metadata": {},
   "outputs": [],
   "source": []
  },
  {
   "cell_type": "code",
   "execution_count": 6,
   "id": "computational-distributor",
   "metadata": {},
   "outputs": [],
   "source": [
    "INPUT_PATH = os.getcwd()+'\\\\Save data\\\\Processed_data'\n",
    "OUTPUT_TEMP_PATH = os.getcwd()+'\\\\Save data\\\\Processed_data\\\\Output_temp'\n",
    "\n",
    "INPUT_TEMP_PATH = os.getcwd()+'\\\\Save data\\\\Processed_data\\\\Output_temp'\n",
    "OUTPUT_PATH = os.getcwd()+'\\\\Save data\\\\Processed_data\\\\Output'\n",
    "\n",
    "OUTPUT_PCA_PATH = os.getcwd()+'\\\\Save data\\\\Processed_data\\\\Output\\\\PCA'"
   ]
  },
  {
   "cell_type": "code",
   "execution_count": 7,
   "id": "popular-lunch",
   "metadata": {},
   "outputs": [
    {
     "data": {
      "text/plain": [
       "['2_BC', '3_BC', '4_BC', '5_BM', '6_BM']"
      ]
     },
     "execution_count": 7,
     "metadata": {},
     "output_type": "execute_result"
    }
   ],
   "source": [
    "patient_id_list_new =  '2_BC\t3_BC\t4_BC\t5_BM\t6_BM\t7_BP\t8_BP\t9_KBW\t10_SUM\t11_DHM\t12_GAW\t13_PMM\t14_TR\t15_TR\t16_TR\t18_EM\t19_EM\t20_EM\t21_FA\t22_FA\t23_HJ\t24_HJ\t25_HM\t26_HM\t27_HM\t28_JM\t29_JM\t30_JM\t31_JM\t32_JM\t33_KBB\t34_KBB\t35_KBB\t36_KBB\t37_KBB\t38_KBB\t39_KBB\t40_KBB\t41_KBB\t42_KBB\t43_KBB\t44_AC\t45_AC\t46_LE\t47_LE\t48_LE\t50_LE\t51_LE\t52_LE\t54_MR\t55_MR\t56_WA\t57_SF\t58_SI\t59_SI'\n",
    "patient_id_list_new = patient_id_list_new.split()\n",
    "patient_id_list_new[:5]"
   ]
  },
  {
   "cell_type": "code",
   "execution_count": 8,
   "id": "tight-conditioning",
   "metadata": {},
   "outputs": [
    {
     "data": {
      "text/plain": [
       "'D:\\\\Workspace\\\\Python\\\\aneurysm-segmentation\\\\datasets\\\\Save data\\\\Processed_data\\\\Output_temp\\\\_PLY0.ply_pymesh.ply'"
      ]
     },
     "execution_count": 8,
     "metadata": {},
     "output_type": "execute_result"
    }
   ],
   "source": [
    "ORIGINAL_FILENAME = \"_PLY0.ply\"\n",
    "WSS_FILENAME = \"_WSS.csv\"\n",
    "WSS_DOWN_FILENME = \"_WSS_down.csv\"\n",
    "CURV_FILENAME = \"_curv_down.csv\"\n",
    "\n",
    "PYMESH_FILENAME = \"_pymesh.ply\"\n",
    "DESC_1_FILENAME = \"_fpfh.ply\"\n",
    "DESC_2_FILENAME = \"_shot.ply\"\n",
    "\n",
    "RADIUS_SEARCH = 0.00024\n",
    "RADIUS = RADIUS_SEARCH * 0.6\n",
    "\n",
    "OUTPUT_FILENAME = \"_output.ply\"\n",
    "PCA_FILENAME = \"_pca.ply\"\n",
    "os.path.join(OUTPUT_TEMP_PATH,f\"{ORIGINAL_FILENAME}{PYMESH_FILENAME}\")"
   ]
  },
  {
   "cell_type": "code",
   "execution_count": null,
   "id": "determined-valve",
   "metadata": {},
   "outputs": [],
   "source": []
  },
  {
   "cell_type": "code",
   "execution_count": 9,
   "id": "contained-sullivan",
   "metadata": {
    "scrolled": true
   },
   "outputs": [
    {
     "name": "stdout",
     "output_type": "stream",
     "text": [
      "TOTAL FILES TO BE PROCESSED: 55\n"
     ]
    }
   ],
   "source": [
    "print (f\"TOTAL FILES TO BE PROCESSED: {len(patient_id_list_new)}\")"
   ]
  },
  {
   "cell_type": "code",
   "execution_count": null,
   "id": "reasonable-mounting",
   "metadata": {},
   "outputs": [],
   "source": []
  },
  {
   "cell_type": "code",
   "execution_count": null,
   "id": "rotary-blowing",
   "metadata": {},
   "outputs": [],
   "source": []
  },
  {
   "cell_type": "code",
   "execution_count": 10,
   "id": "stopped-cherry",
   "metadata": {},
   "outputs": [
    {
     "data": {
      "text/plain": [
       "'D:\\\\Workspace\\\\Python\\\\aneurysm-segmentation\\\\datasets'"
      ]
     },
     "execution_count": 10,
     "metadata": {},
     "output_type": "execute_result"
    }
   ],
   "source": [
    "os.getcwd()"
   ]
  },
  {
   "cell_type": "code",
   "execution_count": 11,
   "id": "color-association",
   "metadata": {
    "colab": {},
    "colab_type": "code",
    "id": "Q44YjGjrvg2j"
   },
   "outputs": [],
   "source": [
    "DIR = os.getcwd() # Replace with your root directory, the data will go in DIR/data."
   ]
  },
  {
   "cell_type": "code",
   "execution_count": 12,
   "id": "neural-stroke",
   "metadata": {
    "cellView": "form",
    "colab": {},
    "colab_type": "code",
    "id": "JnLlPJ_dmzOV"
   },
   "outputs": [],
   "source": [
    "#@title Configure the dataset {run: \"auto\"}\n",
    "CATEGORY = \"All\" #@param [\"Airplane\", \"Bag\", \"All\", \"Motorbike\"] {allow-input: true}\n",
    "USE_NORMALS = False #@param {type:\"boolean\"}|"
   ]
  },
  {
   "cell_type": "code",
   "execution_count": 17,
   "id": "becoming-senator",
   "metadata": {
    "colab": {},
    "colab_type": "code",
    "id": "PBRS6vxSvjRo"
   },
   "outputs": [],
   "source": [
    "shapenet_yaml = \"\"\"\n",
    "class: AneurysmDataset.AneurysmDataset\n",
    "task: segmentation\n",
    "dataroot: %s\n",
    "first_subsampling: 0.02                       # Grid size of the input data\n",
    "pre_transforms:                               # Offline transforms, done only once         \n",
    "    - transform: NormalizeScale \n",
    "    - transform: GridSampling3D\n",
    "      params:\n",
    "        size: ${first_subsampling}\n",
    "train_transforms:                             # Data augmentation pipeline\n",
    "    - transform: RandomNoise\n",
    "      params:\n",
    "        sigma: 0.01\n",
    "        clip: 0.05\n",
    "    - transform: RandomScaleAnisotropic\n",
    "      params:\n",
    "        scales: [0.9,1.1]\n",
    "    - transform: AddOnes\n",
    "    - transform: AddFeatsByKeys\n",
    "      params:\n",
    "        list_add_to_x: [True]\n",
    "        feat_names: [\"ones\"]\n",
    "        delete_feats: [True]\n",
    "test_transforms:\n",
    "    - transform: AddOnes\n",
    "    - transform: AddFeatsByKeys\n",
    "      params:\n",
    "        list_add_to_x: [True]\n",
    "        feat_names: [\"ones\"]\n",
    "        delete_feats: [True]\n",
    "\"\"\" % (os.path.join(DIR,\"data\")) \n",
    "\n",
    "from omegaconf import OmegaConf\n",
    "params = OmegaConf.create(shapenet_yaml)\n",
    "# if CATEGORY != \"All\":\n",
    "#     params.category = CATEGORY"
   ]
  },
  {
   "cell_type": "code",
   "execution_count": 12,
   "id": "express-winning",
   "metadata": {},
   "outputs": [],
   "source": [
    "# params.raw_file_identifiers = patient_id_list_new"
   ]
  },
  {
   "cell_type": "code",
   "execution_count": 13,
   "id": "federal-attachment",
   "metadata": {},
   "outputs": [
    {
     "data": {
      "text/plain": [
       "['2_BC', '3_BC', '4_BC', '5_BM', '6_BM', '7_BP', '8_BP', '9_KBW', '10_SUM', '11_DHM', '12_GAW', '13_PMM', '14_TR', '15_TR', '16_TR', '18_EM', '19_EM', '20_EM', '21_FA', '22_FA', '23_HJ', '24_HJ', '25_HM', '26_HM', '27_HM', '28_JM', '29_JM', '30_JM', '31_JM', '32_JM', '33_KBB', '34_KBB', '35_KBB', '36_KBB', '37_KBB', '38_KBB', '39_KBB', '40_KBB', '41_KBB', '42_KBB', '43_KBB', '44_AC', '45_AC', '46_LE', '47_LE', '48_LE', '50_LE', '51_LE', '52_LE', '54_MR', '55_MR', '56_WA', '57_SF', '58_SI', '59_SI']"
      ]
     },
     "execution_count": 13,
     "metadata": {},
     "output_type": "execute_result"
    }
   ],
   "source": [
    "params.raw_file_identifiers"
   ]
  },
  {
   "cell_type": "code",
   "execution_count": 18,
   "id": "designing-mozambique",
   "metadata": {
    "scrolled": true
   },
   "outputs": [
    {
     "name": "stdout",
     "output_type": "stream",
     "text": [
      "Processing...\n"
     ]
    },
    {
     "data": {
      "application/vnd.jupyter.widget-view+json": {
       "model_id": "04412a9cc60547efa2b59d1875e286b4",
       "version_major": 2,
       "version_minor": 0
      },
      "text/plain": [
       "  0%|          | 0/2 [00:00<?, ?it/s]"
      ]
     },
     "metadata": {},
     "output_type": "display_data"
    },
    {
     "name": "stdout",
     "output_type": "stream",
     "text": [
      "loaded <_io.BufferedReader name='D:\\\\Workspace\\\\Python\\\\aneurysm-segmentation\\\\datasets\\\\data\\\\aneurysm\\\\raw\\\\4_BC_pca.ply'> \n",
      "loaded <_io.BufferedReader name='D:\\\\Workspace\\\\Python\\\\aneurysm-segmentation\\\\datasets\\\\data\\\\aneurysm\\\\raw\\\\5_BM_pca.ply'> \n"
     ]
    },
    {
     "data": {
      "application/vnd.jupyter.widget-view+json": {
       "model_id": "9e2b410c320c470cae1d56ee0cec0913",
       "version_major": 2,
       "version_minor": 0
      },
      "text/plain": [
       "  0%|          | 0/2 [00:00<?, ?it/s]"
      ]
     },
     "metadata": {},
     "output_type": "display_data"
    },
    {
     "name": "stdout",
     "output_type": "stream",
     "text": [
      "loaded <_io.BufferedReader name='D:\\\\Workspace\\\\Python\\\\aneurysm-segmentation\\\\datasets\\\\data\\\\aneurysm\\\\raw\\\\2_BC_pca.ply'> \n",
      "loaded <_io.BufferedReader name='D:\\\\Workspace\\\\Python\\\\aneurysm-segmentation\\\\datasets\\\\data\\\\aneurysm\\\\raw\\\\7_BP_pca.ply'> \n"
     ]
    },
    {
     "data": {
      "application/vnd.jupyter.widget-view+json": {
       "model_id": "980eaa75b2fb4012826a2481f3796691",
       "version_major": 2,
       "version_minor": 0
      },
      "text/plain": [
       "  0%|          | 0/2 [00:00<?, ?it/s]"
      ]
     },
     "metadata": {},
     "output_type": "display_data"
    },
    {
     "name": "stdout",
     "output_type": "stream",
     "text": [
      "loaded <_io.BufferedReader name='D:\\\\Workspace\\\\Python\\\\aneurysm-segmentation\\\\datasets\\\\data\\\\aneurysm\\\\raw\\\\14_TR_pca.ply'> \n",
      "loaded <_io.BufferedReader name='D:\\\\Workspace\\\\Python\\\\aneurysm-segmentation\\\\datasets\\\\data\\\\aneurysm\\\\raw\\\\18_EM_pca.ply'> \n",
      "Done!\n"
     ]
    },
    {
     "data": {
      "text/plain": [
       "Dataset: AneurysmDataset \n",
       "\u001b[0;95mtrain_pre_batch_collate_transform \u001b[0m= None\n",
       "\u001b[0;95mval_pre_batch_collate_transform \u001b[0m= None\n",
       "\u001b[0;95mtest_pre_batch_collate_transform \u001b[0m= None\n",
       "\u001b[0;95mpre_transform \u001b[0m= Compose([\n",
       "    NormalizeScale(),\n",
       "    GridSampling3D(grid_size=0.02, quantize_coords=False, mode=mean),\n",
       "])\n",
       "\u001b[0;95mtest_transform \u001b[0m= Compose([\n",
       "    AddOnes(),\n",
       "    AddFeatsByKeys(ones=True),\n",
       "])\n",
       "\u001b[0;95mtrain_transform \u001b[0m= Compose([\n",
       "    RandomNoise(sigma=0.01, clip=0.05),\n",
       "    RandomScaleAnisotropic([0.9, 1.1]),\n",
       "    AddOnes(),\n",
       "    AddFeatsByKeys(ones=True),\n",
       "])\n",
       "\u001b[0;95mval_transform \u001b[0m= None\n",
       "\u001b[0;95minference_transform \u001b[0m= Compose([\n",
       "    NormalizeScale(),\n",
       "    GridSampling3D(grid_size=0.02, quantize_coords=False, mode=mean),\n",
       "    AddOnes(),\n",
       "    AddFeatsByKeys(ones=True),\n",
       "])\n",
       "Size of \u001b[0;95mtrain_dataset \u001b[0m= 2\n",
       "Size of \u001b[0;95mtest_dataset \u001b[0m= 2\n",
       "Size of \u001b[0;95mval_dataset \u001b[0m= 2\n",
       "\u001b[0;95mBatch size =\u001b[0m None"
      ]
     },
     "execution_count": 18,
     "metadata": {},
     "output_type": "execute_result"
    }
   ],
   "source": [
    "import AneurysmDataset\n",
    "dataset = AneurysmDataset.AneurysmDataset(params)\n",
    "dataset"
   ]
  },
  {
   "cell_type": "code",
   "execution_count": null,
   "id": "contrary-repair",
   "metadata": {},
   "outputs": [],
   "source": []
  }
 ],
 "metadata": {
  "kernelspec": {
   "display_name": "Python 3",
   "language": "python",
   "name": "python3"
  },
  "language_info": {
   "codemirror_mode": {
    "name": "ipython",
    "version": 3
   },
   "file_extension": ".py",
   "mimetype": "text/x-python",
   "name": "python",
   "nbconvert_exporter": "python",
   "pygments_lexer": "ipython3",
   "version": "3.7.7"
  }
 },
 "nbformat": 4,
 "nbformat_minor": 5
}
